{
 "cells": [
  {
   "cell_type": "code",
   "execution_count": 3,
   "metadata": {},
   "outputs": [],
   "source": [
    "using CSV\n",
    "dfx = CSV.read(\"./Xvals.csv\", delim=',', header=true)\n",
    "dfy = CSV.read(\"./Yvals.csv\", delim=',', header=true)\n",
    "nb = size(dfx, 1);\n",
    "A = convert(Matrix{Float64}, CSV.read(\"./affinitymatrix.csv\", delim=',', header=true)[1:10, 2:11]);\n",
    "X = convert(Matrix{Float64}, dfx)\n",
    "Y = convert(Matrix{Float64}, dfy);"
   ]
  },
  {
   "cell_type": "code",
   "execution_count": 4,
   "metadata": {},
   "outputs": [],
   "source": [
    "X = (X .- mean(X, 1)) ./ std(X, 1)\n",
    "Y = (Y .- mean(Y, 1)) ./ std(Y, 1);"
   ]
  },
  {
   "cell_type": "code",
   "execution_count": 5,
   "metadata": {},
   "outputs": [
    {
     "data": {
      "text/plain": [
       "1×10 Array{Float64,2}:\n",
       " 1.0  1.0  1.0  1.0  1.0  1.0  1.0  1.0  1.0  1.0"
      ]
     },
     "execution_count": 5,
     "metadata": {},
     "output_type": "execute_result"
    }
   ],
   "source": [
    "std(X, 1)"
   ]
  },
  {
   "cell_type": "code",
   "execution_count": 6,
   "metadata": {},
   "outputs": [],
   "source": [
    "Φ = X * A * Y';"
   ]
  },
  {
   "cell_type": "code",
   "execution_count": 7,
   "metadata": {},
   "outputs": [
    {
     "name": "stderr",
     "output_type": "stream",
     "text": [
      "\u001b[1m\u001b[36mINFO: \u001b[39m\u001b[22m\u001b[36mRecompiling stale cache file C:\\Users\\Max\\AppData\\Local\\JuliaPro-0.6.2.1\\pkgs-0.6.2.1\\lib\\v0.6\\Gurobi.ji for module Gurobi.\n",
      "\u001b[39m\u001b[1m\u001b[36mINFO: \u001b[39m\u001b[22m\u001b[36mRecompiling stale cache file C:\\Users\\Max\\AppData\\Local\\JuliaPro-0.6.2.1\\pkgs-0.6.2.1\\lib\\v0.6\\JuMP.ji for module JuMP.\n",
      "\u001b[39m"
     ]
    }
   ],
   "source": [
    "using Gurobi, JuMP"
   ]
  },
  {
   "cell_type": "code",
   "execution_count": 8,
   "metadata": {},
   "outputs": [
    {
     "name": "stdout",
     "output_type": "stream",
     "text": [
      "  1.156054 seconds (9.57 M allocations: 299.830 MiB, 37.85% gc time)\n",
      "  0.599335 seconds (3.25 M allocations: 157.467 MiB, 12.26% gc time)\n",
      "  0.353936 seconds (2.88 M allocations: 137.637 MiB, 40.50% gc time)\n",
      "  0.418282 seconds (4.19 M allocations: 118.382 MiB, 36.50% gc time)\n"
     ]
    }
   ],
   "source": [
    "#primal\n",
    "m = Model(solver=GurobiSolver())\n",
    "@time @variable(m, π[1:nb, 1:nb] >= 0)\n",
    "\n",
    "@time @constraint(m, distx[x=1:nb], sum(π[x, y] for y in 1:nb) <= 1/nb)\n",
    "@time @constraint(m, disty[y=1:nb], sum(π[x, y] for x in 1:nb) <= 1/nb)\n",
    "\n",
    "@time @objective(m, Max, sum(sum(π[x, y] * Φ[x, y] for x in 1:nb) for y in 1:nb));"
   ]
  },
  {
   "cell_type": "code",
   "execution_count": 9,
   "metadata": {},
   "outputs": [
    {
     "name": "stdout",
     "output_type": "stream",
     "text": [
      "Academic license - for non-commercial use only\n",
      "Optimize a model with 2316 rows, 1340964 columns and 2681928 nonzeros\n",
      "Coefficient statistics:\n",
      "  Matrix range     [1e+00, 1e+00]\n",
      "  Objective range  [2e-07, 8e+00]\n",
      "  Bounds range     [0e+00, 0e+00]\n",
      "  RHS range        [9e-04, 9e-04]\n",
      "\n",
      "Concurrent LP optimizer: dual simplex and barrier\n",
      "Showing barrier log only...\n",
      "\n",
      "Presolve removed 0 rows and 671378 columns\n",
      "Presolve time: 0.97s\n",
      "Presolved: 2316 rows, 669586 columns, 1339172 nonzeros\n",
      "\n",
      "Ordering time: 0.03s\n",
      "\n",
      "Barrier statistics:\n",
      " AA' NZ     : 6.696e+05\n",
      " Factor NZ  : 1.428e+06 (roughly 300 MBytes of memory)\n",
      " Factor Ops : 1.073e+09 (less than 1 second per iteration)\n",
      " Threads    : 3\n",
      "\n",
      "                  Objective                Residual\n",
      "Iter       Primal          Dual         Primal    Dual     Compl     Time\n",
      "   0   3.87021540e+04  5.82185209e-01  8.32e+01 5.58e+00  1.24e+00     1s\n",
      "   1   8.71033545e+01  1.29966634e+01  2.09e-01 7.38e-15  3.51e-03     1s\n",
      "   2   4.86601160e-01  1.28631877e+01  0.00e+00 7.55e-15  1.84e-05     2s\n",
      "   3   5.61064276e-01  4.88285640e+00  0.00e+00 6.11e-15  6.43e-06     2s\n",
      "   4   7.19225741e-01  2.52376522e+00  0.00e+00 3.33e-15  2.69e-06     2s\n",
      "   5   1.03156799e+00  2.05127679e+00  0.00e+00 2.22e-15  1.52e-06     2s\n",
      "   6   1.35227720e+00  1.83580542e+00  0.00e+00 2.22e-15  7.20e-07     2s\n",
      "   7   1.47129868e+00  1.77888341e+00  0.00e+00 2.22e-15  4.58e-07     2s\n",
      "\n",
      "Barrier performed 7 iterations in 2.31 seconds\n",
      "Barrier solve interrupted - model solved by another algorithm\n",
      "\n",
      "\n",
      "Solved with dual simplex\n",
      "Solved in 33195 iterations and 2.33 seconds\n",
      "Optimal objective  1.703883022e+00\n",
      "  5.390210 seconds (1.52 M allocations: 475.222 MiB, 8.37% gc time)\n"
     ]
    },
    {
     "data": {
      "text/plain": [
       ":Optimal"
      ]
     },
     "execution_count": 9,
     "metadata": {},
     "output_type": "execute_result"
    }
   ],
   "source": [
    "@time solve(m)"
   ]
  },
  {
   "cell_type": "code",
   "execution_count": 10,
   "metadata": {},
   "outputs": [
    {
     "name": "stdout",
     "output_type": "stream",
     "text": [
      "Academic license - for non-commercial use only\r\n",
      "Optimize a model with 1340964 rows, 2316 columns and 2681928 nonzeros\r\n",
      "Coefficient statistics:\r\n",
      "  Matrix range     [1e+00, 1e+00]\r\n",
      "  Objective range  [1e+00, 1e+00]\r\n",
      "  Bounds range     [0e+00, 0e+00]\r\n",
      "  RHS range        [2e-07, 8e+00]\r\n",
      "\r\n",
      "Concurrent LP optimizer: dual simplex and barrier\r\n",
      "Showing barrier log only...\r\n",
      "\r\n",
      "Presolve removed 0 rows and 671378 columns\r\n",
      "Presolve time: 1.07s\r\n",
      "Presolved: 2316 rows, 669586 columns, 1339172 nonzeros\r\n",
      "\r\n",
      "Ordering time: 0.03s\r\n",
      "\r\n",
      "Barrier statistics:\r\n",
      " AA' NZ     : 6.696e+05\r\n",
      " Factor NZ  : 1.428e+06 (roughly 300 MBytes of memory)\r\n",
      " Factor Ops : 1.073e+09 (less than 1 second per iteration)\r\n",
      " Threads    : 3\r\n",
      "\r\n",
      "                  Objective                Residual\r\n",
      "Iter       Primal          Dual         Primal    Dual     Compl     Time\r\n",
      "   0   3.93757423e+04  6.74170472e+02  8.32e+01 5.58e+00  1.26e+00     1s\r\n",
      "   1   6.81803951e+02  1.45621301e+04  0.00e+00 7.29e-15  2.07e-02     2s\r\n",
      "   2   7.43476296e+02  6.31961841e+03  0.00e+00 5.55e-15  8.30e-03     2s\r\n",
      "   3   8.52296063e+02  3.58969923e+03  0.00e+00 3.58e-15  4.07e-03     2s\r\n",
      "   4   1.08549004e+03  2.61577007e+03  0.00e+00 2.22e-15  2.28e-03     2s\r\n",
      "   5   1.34897823e+03  2.24967308e+03  0.00e+00 2.22e-15  1.34e-03     2s\r\n",
      "   6   1.56405503e+03  2.11866160e+03  0.00e+00 2.14e-15  8.25e-04     2s\r\n",
      "   7   1.75109056e+03  2.05941492e+03  0.00e+00 2.11e-15  4.59e-04     2s\r\n",
      "   8   1.87870124e+03  2.01086017e+03  0.00e+00 2.66e-15  1.97e-04     3s\r\n",
      "   9   1.93851170e+03  1.99548739e+03  0.00e+00 3.08e-15  8.48e-05     3s\r\n",
      "  10   1.95828969e+03  1.98332610e+03  0.00e+00 2.44e-15  3.73e-05     3s\r\n",
      "  11   1.96711445e+03  1.97721058e+03  0.00e+00 2.33e-15  1.50e-05     3s\r\n",
      "  12   1.97033396e+03  1.97493902e+03  0.00e+00 2.22e-15  6.85e-06     3s\r\n",
      "  13   1.97197659e+03  1.97378631e+03  0.00e+00 2.14e-15  2.69e-06     3s\r\n",
      "  14   1.97288557e+03  1.97331366e+03  0.00e+00 2.21e-15  6.37e-07     3s\r\n",
      "  15   1.97308546e+03  1.97310111e+03  0.00e+00 2.22e-15  2.33e-08     3s\r\n",
      "  16   1.97309652e+03  1.97309655e+03  5.83e-12 2.22e-15  4.76e-11     4s\r\n",
      "  17   1.97309654e+03  1.97309654e+03  9.89e-12 2.22e-15  1.10e-15     4s\r\n",
      "\r\n",
      "Barrier solved model in 17 iterations and 3.70 seconds\r\n",
      "Optimal objective 1.97309654e+03\r\n",
      "\r\n",
      "Crossover log...\r\n",
      "\r\n",
      "       0 DPushes remaining with DInf 3.7346579e-04                 4s\r\n",
      "\r\n",
      "       0 PPushes remaining with PInf 0.0000000e+00                 4s\r\n",
      "\r\n",
      "  Push phase complete: Pinf 0.0000000e+00, Dinf 3.7346579e-04      4s\r\n",
      "\r\n",
      "Iteration    Objective       Primal Inf.    Dual Inf.      Time\r\n",
      "    1060    1.9730965e+03   0.000000e+00   3.734658e-04      4s\r\n",
      "    1062    1.9730965e+03   0.000000e+00   0.000000e+00      5s\r\n",
      "\r\n",
      "Solved with dual simplex\r\n",
      "Solved in 91744 iterations and 4.68 seconds\r\n",
      "Optimal objective  1.973096540e+03\r\n"
     ]
    },
    {
     "data": {
      "text/plain": [
       ":Optimal"
      ]
     },
     "execution_count": 10,
     "metadata": {},
     "output_type": "execute_result"
    }
   ],
   "source": [
    "#dual\n",
    "m = Model(solver=GurobiSolver())\n",
    "@variable(m, u[1:nb] >= 0)\n",
    "@variable(m, v[1:nb] >= 0)\n",
    "\n",
    "@constraint(m, blocking[x=1:nb, y=1:nb], u[x] + v[y] >= Φ[x, y])\n",
    "@objective(m, Min, sum(u[x] for x in 1:nb) + sum(v[y] for y in 1:nb))\n",
    "solve(m)"
   ]
  },
  {
   "cell_type": "code",
   "execution_count": null,
   "metadata": {},
   "outputs": [],
   "source": []
  }
 ],
 "metadata": {
  "kernelspec": {
   "display_name": "Julia 0.6.2",
   "language": "julia",
   "name": "julia-0.6"
  },
  "language_info": {
   "file_extension": ".jl",
   "mimetype": "application/julia",
   "name": "julia",
   "version": "0.6.2"
  }
 },
 "nbformat": 4,
 "nbformat_minor": 2
}
