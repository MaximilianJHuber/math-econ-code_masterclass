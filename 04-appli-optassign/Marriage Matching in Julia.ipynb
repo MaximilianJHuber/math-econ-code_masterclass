{
 "cells": [
  {
   "cell_type": "code",
   "execution_count": 1,
   "metadata": {},
   "outputs": [],
   "source": [
    "using CSV\n",
    "dfx = CSV.read(\"./Xvals.csv\", delim=',', header=true)\n",
    "dfy = CSV.read(\"./Yvals.csv\", delim=',', header=true)\n",
    "nb = size(dfx, 1);\n",
    "A = convert(Matrix{Float64}, CSV.read(\"./affinitymatrix.csv\", delim=',', header=true)[1:10, 2:11]);\n",
    "X = convert(Matrix{Float64}, dfx)\n",
    "Y = convert(Matrix{Float64}, dfy);"
   ]
  },
  {
   "cell_type": "code",
   "execution_count": 2,
   "metadata": {},
   "outputs": [],
   "source": [
    "X = (X .- mean(X, 1)) ./ std(X, 1)\n",
    "Y = (Y .- mean(Y, 1)) ./ std(Y, 1);"
   ]
  },
  {
   "cell_type": "code",
   "execution_count": 3,
   "metadata": {},
   "outputs": [
    {
     "data": {
      "text/plain": [
       "1×10 Array{Float64,2}:\n",
       " 1.0  1.0  1.0  1.0  1.0  1.0  1.0  1.0  1.0  1.0"
      ]
     },
     "execution_count": 3,
     "metadata": {},
     "output_type": "execute_result"
    }
   ],
   "source": [
    "std(X, 1)"
   ]
  },
  {
   "cell_type": "code",
   "execution_count": 4,
   "metadata": {},
   "outputs": [],
   "source": [
    "Φ = X * A * Y';"
   ]
  },
  {
   "cell_type": "code",
   "execution_count": 5,
   "metadata": {},
   "outputs": [],
   "source": [
    "using Gurobi, JuMP"
   ]
  },
  {
   "cell_type": "code",
   "execution_count": 9,
   "metadata": {},
   "outputs": [
    {
     "name": "stdout",
     "output_type": "stream",
     "text": [
      "  5.101258 seconds (9.55 M allocations: 356.765 MiB, 59.42% gc time)\n",
      "  1.637998 seconds (2.88 M allocations: 137.622 MiB, 65.07% gc time)\n",
      "  1.739765 seconds (2.88 M allocations: 137.637 MiB, 66.77% gc time)\n",
      "  1.831803 seconds (4.19 M allocations: 118.359 MiB, 63.08% gc time)\n"
     ]
    }
   ],
   "source": [
    "#primal\n",
    "m = Model(solver=GurobiSolver())\n",
    "@time @variable(m, π[1:nb, 1:nb] >= 0)\n",
    "\n",
    "@time @constraint(m, distx[x=1:nb], sum(π[x, y] for y in 1:nb) <= 1/nb)\n",
    "@time @constraint(m, disty[y=1:nb], sum(π[x, y] for x in 1:nb) <= 1/nb)\n",
    "\n",
    "@time @objective(m, Max, sum(sum(π[x, y] * Φ[x, y] for x in 1:nb) for y in 1:nb));"
   ]
  },
  {
   "cell_type": "code",
   "execution_count": 10,
   "metadata": {},
   "outputs": [
    {
     "name": "stdout",
     "output_type": "stream",
     "text": [
      "Academic license - for non-commercial use only\n",
      "Optimize a model with 2316 rows, 1340964 columns and 2681928 nonzeros\n",
      "Coefficient statistics:\n",
      "  Matrix range     [1e+00, 1e+00]\n",
      "  Objective range  [2e-07, 8e+00]\n",
      "  Bounds range     [0e+00, 0e+00]\n",
      "  RHS range        [9e-04, 9e-04]\n",
      "\n",
      "Concurrent LP optimizer: dual simplex and barrier\n",
      "Showing barrier log only...\n",
      "\n",
      "Presolve removed 0 rows and 671378 columns\n",
      "Presolve time: 4.72s\n",
      "Presolved: 2316 rows, 669586 columns, 1339172 nonzeros\n",
      "\n",
      "Ordering time: 0.06s\n",
      "\n",
      "Barrier statistics:\n",
      " AA' NZ     : 6.696e+05\n",
      " Factor NZ  : 1.428e+06 (roughly 300 MBytes of memory)\n",
      " Factor Ops : 1.073e+09 (less than 1 second per iteration)\n",
      " Threads    : 1\n",
      "\n",
      "                  Objective                Residual\n",
      "Iter       Primal          Dual         Primal    Dual     Compl     Time\n",
      "   0   3.87021540e+04  5.82185209e-01  8.32e+01 5.58e+00  1.24e+00     7s\n",
      "   1   8.71033545e+01  1.29966634e+01  2.09e-01 7.99e-15  3.51e-03     8s\n",
      "   2   4.86601160e-01  1.28631877e+01  0.00e+00 7.88e-15  1.84e-05     9s\n",
      "   3   5.61064276e-01  4.88285640e+00  0.00e+00 6.77e-15  6.43e-06    10s\n",
      "\n",
      "Barrier performed 3 iterations in 9.71 seconds\n",
      "Barrier solve interrupted - model solved by another algorithm\n",
      "\n",
      "\n",
      "Solved with dual simplex\n",
      "Solved in 38407 iterations and 9.78 seconds\n",
      "Optimal objective  1.703883022e+00\n",
      " 14.041510 seconds (156 allocations: 396.615 MiB, 13.84% gc time)\n"
     ]
    },
    {
     "data": {
      "text/plain": [
       ":Optimal"
      ]
     },
     "execution_count": 10,
     "metadata": {},
     "output_type": "execute_result"
    }
   ],
   "source": [
    "@time solve(m)"
   ]
  },
  {
   "cell_type": "code",
   "execution_count": 55,
   "metadata": {},
   "outputs": [
    {
     "name": "stdout",
     "output_type": "stream",
     "text": [
      "Academic license - for non-commercial use only\n",
      "Optimize a model with 1340964 rows, 2316 columns and 2681928 nonzeros\n",
      "Coefficient statistics:\n",
      "  Matrix range     [1e+00, 1e+00]\n",
      "  Objective range  [1e+00, 1e+00]\n",
      "  Bounds range     [0e+00, 0e+00]\n",
      "  RHS range        [2e-07, 8e+00]\n",
      "\n",
      "Concurrent LP optimizer: dual simplex and barrier\n",
      "Showing barrier log only...\n",
      "\n",
      "Presolve removed 0 rows and 671378 columns (presolve time = 6s) ...\n",
      "Presolve removed 0 rows and 671378 columns\n",
      "Presolve time: 7.44s\n",
      "Presolved: 2316 rows, 669586 columns, 1339172 nonzeros\n",
      "\n",
      "Ordering time: 0.14s\n",
      "\n",
      "Barrier statistics:\n",
      " AA' NZ     : 6.696e+05\n",
      " Factor NZ  : 1.428e+06 (roughly 300 MBytes of memory)\n",
      " Factor Ops : 1.073e+09 (less than 1 second per iteration)\n",
      " Threads    : 1\n",
      "\n",
      "                  Objective                Residual\n",
      "Iter       Primal          Dual         Primal    Dual     Compl     Time\n",
      "   0   3.93757423e+04  6.74170472e+02  8.32e+01 5.58e+00  1.26e+00    10s\n",
      "   1   6.81803951e+02  1.45621301e+04  0.00e+00 7.99e-15  2.07e-02    11s\n",
      "   2   7.43476296e+02  6.31961841e+03  0.00e+00 6.16e-15  8.30e-03    12s\n",
      "   3   8.52296063e+02  3.58969923e+03  0.00e+00 4.44e-15  4.07e-03    14s\n",
      "   4   1.09270672e+03  2.38948327e+03  0.00e+00 2.22e-15  1.93e-03    15s\n",
      "   5   1.48496670e+03  2.10109287e+03  0.00e+00 2.22e-15  9.17e-04    17s\n",
      "   6   1.78924115e+03  2.03163645e+03  0.00e+00 2.22e-15  3.61e-04    19s\n",
      "   7   1.90233679e+03  1.99755181e+03  0.00e+00 2.78e-15  1.42e-04    20s\n",
      "   8   1.95023712e+03  1.98560076e+03  0.00e+00 3.04e-15  5.26e-05    22s\n",
      "\n",
      "Barrier performed 8 iterations in 22.58 seconds\n",
      "Barrier solve interrupted - model solved by another algorithm\n",
      "\n",
      "\n",
      "Solved with dual simplex\n",
      "Solved in 91744 iterations and 22.68 seconds\n",
      "Optimal objective  1.973096540e+03\n"
     ]
    },
    {
     "data": {
      "text/plain": [
       ":Optimal"
      ]
     },
     "execution_count": 55,
     "metadata": {},
     "output_type": "execute_result"
    }
   ],
   "source": [
    "#dual\n",
    "m = Model(solver=GurobiSolver())\n",
    "@variable(m, u[1:nb] >= 0)\n",
    "@variable(m, v[1:nb] >= 0)\n",
    "\n",
    "@constraint(m, blocking[x=1:nb, y=1:nb], u[x] + v[y] >= Φ[x, y])\n",
    "@objective(m, Min, sum(u[x] for x in 1:nb) + sum(v[y] for y in 1:nb))\n",
    "solve(m)"
   ]
  },
  {
   "cell_type": "code",
   "execution_count": null,
   "metadata": {},
   "outputs": [],
   "source": []
  }
 ],
 "metadata": {
  "kernelspec": {
   "display_name": "Julia 0.6.2",
   "language": "julia",
   "name": "julia-0.6"
  },
  "language_info": {
   "file_extension": ".jl",
   "mimetype": "application/julia",
   "name": "julia",
   "version": "0.6.2"
  }
 },
 "nbformat": 4,
 "nbformat_minor": 2
}
