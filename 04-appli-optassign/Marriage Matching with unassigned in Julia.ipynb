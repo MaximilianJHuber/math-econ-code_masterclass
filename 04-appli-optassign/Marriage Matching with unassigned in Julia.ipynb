{
 "cells": [
  {
   "cell_type": "code",
   "execution_count": 65,
   "metadata": {},
   "outputs": [],
   "source": [
    "using CSV\n",
    "dfx = CSV.read(\"./Xvals.csv\", delim=',', header=true)\n",
    "dfy = CSV.read(\"./Yvals.csv\", delim=',', header=true)\n",
    "nb = size(dfx, 1);\n",
    "A = convert(Matrix{Float64}, CSV.read(\"./affinitymatrix.csv\", delim=',', header=true)[1:10, 2:11]);\n",
    "X = convert(Matrix{Float64}, dfx)\n",
    "Y = convert(Matrix{Float64}, dfy);"
   ]
  },
  {
   "cell_type": "code",
   "execution_count": 66,
   "metadata": {},
   "outputs": [],
   "source": [
    "X = (X .- mean(X, 1)) ./ std(X, 1)\n",
    "Y = (Y .- mean(Y, 1)) ./ std(Y, 1);"
   ]
  },
  {
   "cell_type": "code",
   "execution_count": 67,
   "metadata": {},
   "outputs": [],
   "source": [
    "X = vcat(X, 50*ones(1, 10))\n",
    "Y = vcat(Y, 50*ones(1, 10));"
   ]
  },
  {
   "cell_type": "code",
   "execution_count": 68,
   "metadata": {},
   "outputs": [],
   "source": [
    "Φ = X * A * Y';"
   ]
  },
  {
   "cell_type": "code",
   "execution_count": 69,
   "metadata": {},
   "outputs": [
    {
     "data": {
      "text/plain": [
       "1159-element Array{Float64,1}:\n",
       " -0.00638768\n",
       " -0.0193259 \n",
       " -0.815811  \n",
       " -1.15269   \n",
       " -0.0909828 \n",
       "  0.0911009 \n",
       "  0.601544  \n",
       "  0.25201   \n",
       "  0.0485858 \n",
       " -0.750418  \n",
       "  0.545732  \n",
       " -0.416863  \n",
       "  0.453591  \n",
       "  ⋮         \n",
       "  0.555934  \n",
       "  0.899312  \n",
       " -0.154868  \n",
       " -0.822435  \n",
       " -0.450601  \n",
       "  0.753615  \n",
       "  0.330519  \n",
       "  0.408445  \n",
       " -0.0566662 \n",
       " -0.779799  \n",
       "  0.826045  \n",
       "  2.6885    "
      ]
     },
     "execution_count": 69,
     "metadata": {},
     "output_type": "execute_result"
    }
   ],
   "source": [
    "Φ[1, :]"
   ]
  },
  {
   "cell_type": "code",
   "execution_count": 70,
   "metadata": {},
   "outputs": [],
   "source": [
    "using Gurobi, JuMP"
   ]
  },
  {
   "cell_type": "code",
   "execution_count": 71,
   "metadata": {},
   "outputs": [
    {
     "name": "stdout",
     "output_type": "stream",
     "text": [
      " 33.801205 seconds (9.57 M allocations: 333.280 MiB, 92.44% gc time)\n",
      "  1.546066 seconds (2.88 M allocations: 137.622 MiB, 49.80% gc time)\n",
      "  7.191452 seconds (2.88 M allocations: 137.637 MiB, 89.99% gc time)\n",
      "  7.813201 seconds (4.19 M allocations: 118.359 MiB, 86.46% gc time)\n"
     ]
    }
   ],
   "source": [
    "#primal\n",
    "m = Model(solver=GurobiSolver())\n",
    "@time @variable(m, π[1:nb+1, 1:nb+1] >= 0)\n",
    "\n",
    "@time @constraint(m, distx[x=1:nb], sum(π[x, y] for y in 1:nb) <= 1/nb)\n",
    "@time @constraint(m, disty[y=1:nb], sum(π[x, y] for x in 1:nb) <= 1/nb)\n",
    "\n",
    "@time @objective(m, Max, sum(sum(π[x, y] * Φ[x, y] for x in 1:nb) for y in 1:nb));"
   ]
  },
  {
   "cell_type": "code",
   "execution_count": 63,
   "metadata": {},
   "outputs": [
    {
     "name": "stdout",
     "output_type": "stream",
     "text": [
      "Academic license - for non-commercial use only\n",
      "Optimize a model with 2316 rows, 1343281 columns and 2681928 nonzeros\n",
      "Coefficient statistics:\n",
      "  Matrix range     [1e+00, 1e+00]\n",
      "  Objective range  [2e-07, 8e+00]\n",
      "  Bounds range     [0e+00, 0e+00]\n",
      "  RHS range        [9e-04, 9e-04]\n",
      "\n",
      "Concurrent LP optimizer: dual simplex and barrier\n",
      "Showing barrier log only...\n",
      "\n",
      "Presolve removed 0 rows and 673695 columns (presolve time = 5s) ...\n",
      "Presolve removed 0 rows and 673695 columns\n",
      "Presolve time: 6.79s\n",
      "Presolved: 2316 rows, 669586 columns, 1339172 nonzeros\n",
      "\n",
      "Ordering time: 0.07s\n",
      "\n",
      "Barrier statistics:\n",
      " AA' NZ     : 6.696e+05\n",
      " Factor NZ  : 1.428e+06 (roughly 300 MBytes of memory)\n",
      " Factor Ops : 1.073e+09 (less than 1 second per iteration)\n",
      " Threads    : 1\n",
      "\n",
      "                  Objective                Residual\n",
      "Iter       Primal          Dual         Primal    Dual     Compl     Time\n",
      "   0   3.87021540e+04  5.82185209e-01  8.32e+01 5.58e+00  1.24e+00     9s\n",
      "   1   8.71033545e+01  1.29966634e+01  2.09e-01 7.99e-15  3.51e-03    10s\n",
      "   2   4.86601160e-01  1.28631877e+01  0.00e+00 7.88e-15  1.84e-05    11s\n",
      "   3   5.61064276e-01  4.88285640e+00  0.00e+00 6.22e-15  6.43e-06    13s\n",
      "\n",
      "Barrier performed 3 iterations in 12.62 seconds\n",
      "Barrier solve interrupted - model solved by another algorithm\n",
      "\n",
      "\n",
      "Solved with dual simplex\n",
      "Solved in 38407 iterations and 12.69 seconds\n",
      "Optimal objective  1.703883022e+00\n",
      " 28.407981 seconds (156 allocations: 396.876 MiB, 40.84% gc time)\n"
     ]
    },
    {
     "data": {
      "text/plain": [
       ":Optimal"
      ]
     },
     "execution_count": 63,
     "metadata": {},
     "output_type": "execute_result"
    }
   ],
   "source": [
    "@time solve(m)"
   ]
  },
  {
   "cell_type": "code",
   "execution_count": 64,
   "metadata": {},
   "outputs": [
    {
     "name": "stdout",
     "output_type": "stream",
     "text": [
      "Academic license - for non-commercial use only\n",
      "Optimize a model with 1340964 rows, 2316 columns and 2681928 nonzeros\n",
      "Coefficient statistics:\n",
      "  Matrix range     [1e+00, 1e+00]\n",
      "  Objective range  [1e+00, 1e+00]\n",
      "  Bounds range     [0e+00, 0e+00]\n",
      "  RHS range        [2e-07, 8e+00]\n",
      "\n",
      "Concurrent LP optimizer: dual simplex and barrier\n",
      "Showing barrier log only...\n",
      "\n",
      "Presolve removed 0 rows and 671378 columns (presolve time = 6s) ...\n",
      "Presolve removed 0 rows and 671378 columns\n",
      "Presolve time: 7.96s\n",
      "Presolved: 2316 rows, 669586 columns, 1339172 nonzeros\n",
      "\n",
      "Ordering time: 0.08s\n",
      "\n",
      "Barrier statistics:\n",
      " AA' NZ     : 6.696e+05\n",
      " Factor NZ  : 1.428e+06 (roughly 300 MBytes of memory)\n",
      " Factor Ops : 1.073e+09 (less than 1 second per iteration)\n",
      " Threads    : 1\n",
      "\n",
      "                  Objective                Residual\n",
      "Iter       Primal          Dual         Primal    Dual     Compl     Time\n",
      "   0   3.93757423e+04  6.74170472e+02  8.32e+01 5.58e+00  1.26e+00    10s\n",
      "   1   6.81803951e+02  1.45621301e+04  0.00e+00 7.85e-15  2.07e-02    11s\n",
      "   2   7.43476296e+02  6.31961841e+03  0.00e+00 6.77e-15  8.30e-03    13s\n",
      "   3   8.52296063e+02  3.58969923e+03  0.00e+00 3.77e-15  4.07e-03    15s\n",
      "   4   1.09270672e+03  2.38948327e+03  0.00e+00 2.22e-15  1.93e-03    17s\n",
      "   5   1.48496670e+03  2.10109287e+03  0.00e+00 2.16e-15  9.17e-04    20s\n",
      "   6   1.78924115e+03  2.03163645e+03  0.00e+00 2.72e-15  3.61e-04    22s\n",
      "   7   1.90233679e+03  1.99755181e+03  0.00e+00 3.11e-15  1.42e-04    24s\n",
      "   8   1.95023712e+03  1.98560076e+03  0.00e+00 2.66e-15  5.26e-05    25s\n",
      "\n",
      "Barrier performed 8 iterations in 26.73 seconds\n",
      "Barrier solve interrupted - model solved by another algorithm\n",
      "\n",
      "\n",
      "Solved with dual simplex\n",
      "Solved in 91744 iterations and 26.86 seconds\n",
      "Optimal objective  1.973096540e+03\n"
     ]
    },
    {
     "data": {
      "text/plain": [
       ":Optimal"
      ]
     },
     "execution_count": 64,
     "metadata": {},
     "output_type": "execute_result"
    }
   ],
   "source": [
    "#dual\n",
    "m = Model(solver=GurobiSolver())\n",
    "@variable(m, u[1:nb] >= 0)\n",
    "@variable(m, v[1:nb] >= 0)\n",
    "\n",
    "@constraint(m, blocking[x=1:nb, y=1:nb], u[x] + v[y] >= Φ[x, y])\n",
    "@objective(m, Min, sum(u[x] for x in 1:nb) + sum(v[y] for y in 1:nb))\n",
    "solve(m)"
   ]
  },
  {
   "cell_type": "code",
   "execution_count": null,
   "metadata": {},
   "outputs": [],
   "source": []
  }
 ],
 "metadata": {
  "kernelspec": {
   "display_name": "Julia 0.6.2",
   "language": "julia",
   "name": "julia-0.6"
  },
  "language_info": {
   "file_extension": ".jl",
   "mimetype": "application/julia",
   "name": "julia",
   "version": "0.6.2"
  }
 },
 "nbformat": 4,
 "nbformat_minor": 2
}
