{
 "cells": [
  {
   "cell_type": "code",
   "execution_count": 44,
   "metadata": {},
   "outputs": [],
   "source": [
    "using Gurobi, JuMP, Distributions"
   ]
  },
  {
   "cell_type": "code",
   "execution_count": 46,
   "metadata": {},
   "outputs": [],
   "source": [
    "nbx = 800\n",
    "nby = 1000\n",
    "Φ = rand(Uniform(), nbx, nby);"
   ]
  },
  {
   "cell_type": "code",
   "execution_count": 47,
   "metadata": {},
   "outputs": [
    {
     "name": "stdout",
     "output_type": "stream",
     "text": [
      "  4.741457 seconds (5.59 M allocations: 218.616 MiB, 66.23% gc time)\n",
      "  0.508970 seconds (1.61 M allocations: 62.248 MiB)\n",
      "  0.420360 seconds (1.41 M allocations: 65.621 MiB)\n"
     ]
    }
   ],
   "source": [
    "#primal\n",
    "m = Model(solver=GurobiSolver())\n",
    "@time @variable(m, π[1:nbx, 1:nby] >= 0)\n",
    "\n",
    "@time @constraint(m, distx[x=1:nbx], sum(π[x, y] for y in 1:nby) <= 1/nbx)\n",
    "@time @constraint(m, disty[y=1:nby], sum(π[x, y] for x in 1:nbx) <= 1/nby);"
   ]
  },
  {
   "cell_type": "code",
   "execution_count": 12,
   "metadata": {},
   "outputs": [
    {
     "name": "stdout",
     "output_type": "stream",
     "text": [
      "Academic license - for non-commercial use only\n",
      "Optimize a model with 1800 rows, 800000 columns and 1600000 nonzeros\n",
      "Coefficient statistics:\n",
      "  Matrix range     [1e+00, 1e+00]\n",
      "  Objective range  [6e-06, 1e+00]\n",
      "  Bounds range     [0e+00, 0e+00]\n",
      "  RHS range        [1e-03, 1e-03]\n",
      "\n",
      "Concurrent LP optimizer: dual simplex and barrier\n",
      "Showing barrier log only...\n",
      "\n",
      "Presolve time: 3.21s\n",
      "Presolved: 1800 rows, 800000 columns, 1600000 nonzeros\n",
      "\n",
      "Ordering time: 0.04s\n",
      "\n",
      "Barrier statistics:\n",
      " AA' NZ     : 8.000e+05\n",
      " Factor NZ  : 1.621e+06 (roughly 330 MBytes of memory)\n",
      " Factor Ops : 1.946e+09 (less than 1 second per iteration)\n",
      " Threads    : 1\n",
      "\n",
      "Barrier performed 0 iterations in 5.81 seconds\n",
      "Barrier solve interrupted - model solved by another algorithm\n",
      "\n",
      "\n",
      "Solved with dual simplex\n",
      "Solved in 3878 iterations and 5.86 seconds\n",
      "Optimal objective  9.980640903e-01\n",
      "  8.712713 seconds (148 allocations: 236.649 MiB, 15.44% gc time)\n"
     ]
    },
    {
     "data": {
      "text/plain": [
       ":Optimal"
      ]
     },
     "execution_count": 12,
     "metadata": {},
     "output_type": "execute_result"
    }
   ],
   "source": [
    "@time @objective(m, Max, sum(sum(π[x, y] * Φ[x, y] for x in 1:nbx) for y in 1:nby));\n",
    "@time solve(m)"
   ]
  },
  {
   "cell_type": "code",
   "execution_count": 52,
   "metadata": {},
   "outputs": [
    {
     "ename": "LoadError",
     "evalue": "\u001b[91mMethodError: no method matching NonlinearModel(::Gurobi.GurobiSolver)\u001b[0m\nClosest candidates are:\n  NonlinearModel(\u001b[91m::Int64\u001b[39m) at /Users/Max/.julia/v0.6/MathProgBase/src/SolverInterface/SolverInterface.jl:26\n  NonlinearModel() at /Users/Max/.julia/v0.6/MathProgBase/src/SolverInterface/SolverInterface.jl:24\u001b[39m",
     "output_type": "error",
     "traceback": [
      "\u001b[91mMethodError: no method matching NonlinearModel(::Gurobi.GurobiSolver)\u001b[0m\nClosest candidates are:\n  NonlinearModel(\u001b[91m::Int64\u001b[39m) at /Users/Max/.julia/v0.6/MathProgBase/src/SolverInterface/SolverInterface.jl:26\n  NonlinearModel() at /Users/Max/.julia/v0.6/MathProgBase/src/SolverInterface/SolverInterface.jl:24\u001b[39m",
      "",
      "Stacktrace:",
      " [1] \u001b[1m_buildInternalModel_nlp\u001b[22m\u001b[22m\u001b[1m(\u001b[22m\u001b[22m::JuMP.Model, ::JuMP.ProblemTraits\u001b[1m)\u001b[22m\u001b[22m at \u001b[1m/Users/Max/.julia/v0.6/JuMP/src/nlp.jl:1246\u001b[22m\u001b[22m",
      " [2] \u001b[1m#build#119\u001b[22m\u001b[22m\u001b[1m(\u001b[22m\u001b[22m::Bool, ::Bool, ::JuMP.ProblemTraits, ::Function, ::JuMP.Model\u001b[1m)\u001b[22m\u001b[22m at \u001b[1m/Users/Max/.julia/v0.6/JuMP/src/solvers.jl:303\u001b[22m\u001b[22m",
      " [3] \u001b[1m(::JuMP.#kw##build)\u001b[22m\u001b[22m\u001b[1m(\u001b[22m\u001b[22m::Array{Any,1}, ::JuMP.#build, ::JuMP.Model\u001b[1m)\u001b[22m\u001b[22m at \u001b[1m./<missing>:0\u001b[22m\u001b[22m",
      " [4] \u001b[1m#solve#116\u001b[22m\u001b[22m\u001b[1m(\u001b[22m\u001b[22m::Bool, ::Bool, ::Bool, ::Array{Any,1}, ::Function, ::JuMP.Model\u001b[1m)\u001b[22m\u001b[22m at \u001b[1m/Users/Max/.julia/v0.6/JuMP/src/solvers.jl:168\u001b[22m\u001b[22m",
      " [5] \u001b[1msolve\u001b[22m\u001b[22m\u001b[1m(\u001b[22m\u001b[22m::JuMP.Model\u001b[1m)\u001b[22m\u001b[22m at \u001b[1m/Users/Max/.julia/v0.6/JuMP/src/solvers.jl:150\u001b[22m\u001b[22m",
      " [6] \u001b[1minclude_string\u001b[22m\u001b[22m\u001b[1m(\u001b[22m\u001b[22m::String, ::String\u001b[1m)\u001b[22m\u001b[22m at \u001b[1m./loading.jl:522\u001b[22m\u001b[22m"
     ]
    }
   ],
   "source": [
    "using Gurobi\n",
    "m = Model(solver=GurobiSolver())\n",
    "\n",
    "@variable(m, π[1:nbx, 1:nby] >= 0)\n",
    "@constraint(m, distx[x=1:nbx], sum(π[x, y] for y in 1:nby) <= 1/nbx)\n",
    "@constraint(m, disty[y=1:nby], sum(π[x, y] for x in 1:nbx) <= 1/nby)\n",
    "@NLobjective(m, Max, sum(sum(π[x, y] * Φ[x, y] - 0.1 * π[x, y] * log(π[x, y]) for x in 1:nbx) for y in 1:nby));\n",
    "solve(m) #Gurobi does not support NLP"
   ]
  },
  {
   "cell_type": "code",
   "execution_count": null,
   "metadata": {},
   "outputs": [],
   "source": []
  }
 ],
 "metadata": {
  "kernelspec": {
   "display_name": "Julia 0.6.2",
   "language": "julia",
   "name": "julia-0.6"
  },
  "language_info": {
   "file_extension": ".jl",
   "mimetype": "application/julia",
   "name": "julia",
   "version": "0.6.2"
  }
 },
 "nbformat": 4,
 "nbformat_minor": 2
}
