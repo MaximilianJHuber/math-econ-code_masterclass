{
 "cells": [
  {
   "cell_type": "code",
   "execution_count": 1,
   "metadata": {},
   "outputs": [],
   "source": [
    "using Gurobi, JuMP, Distributions"
   ]
  },
  {
   "cell_type": "code",
   "execution_count": 7,
   "metadata": {},
   "outputs": [],
   "source": [
    "nbx = 800\n",
    "nby = 1000\n",
    "Φ = rand(Uniform(), nbx, nby);"
   ]
  },
  {
   "cell_type": "code",
   "execution_count": 29,
   "metadata": {},
   "outputs": [
    {
     "name": "stdout",
     "output_type": "stream",
     "text": [
      "  3.158159 seconds (5.59 M allocations: 218.616 MiB, 54.60% gc time)\n",
      "  0.387646 seconds (1.61 M allocations: 62.248 MiB)\n",
      "  0.538444 seconds (1.41 M allocations: 65.621 MiB)\n"
     ]
    }
   ],
   "source": [
    "#primal\n",
    "m = Model(solver=GurobiSolver())\n",
    "@time @variable(m, π[1:nbx, 1:nby] >= 0)\n",
    "\n",
    "@time @constraint(m, distx[x=1:nbx], sum(π[x, y] for y in 1:nby) <= 1/nbx)\n",
    "@time @constraint(m, disty[y=1:nby], sum(π[x, y] for x in 1:nbx) <= 1/nby);"
   ]
  },
  {
   "cell_type": "code",
   "execution_count": 12,
   "metadata": {},
   "outputs": [
    {
     "name": "stdout",
     "output_type": "stream",
     "text": [
      "Academic license - for non-commercial use only\n",
      "Optimize a model with 1800 rows, 800000 columns and 1600000 nonzeros\n",
      "Coefficient statistics:\n",
      "  Matrix range     [1e+00, 1e+00]\n",
      "  Objective range  [6e-06, 1e+00]\n",
      "  Bounds range     [0e+00, 0e+00]\n",
      "  RHS range        [1e-03, 1e-03]\n",
      "\n",
      "Concurrent LP optimizer: dual simplex and barrier\n",
      "Showing barrier log only...\n",
      "\n",
      "Presolve time: 3.21s\n",
      "Presolved: 1800 rows, 800000 columns, 1600000 nonzeros\n",
      "\n",
      "Ordering time: 0.04s\n",
      "\n",
      "Barrier statistics:\n",
      " AA' NZ     : 8.000e+05\n",
      " Factor NZ  : 1.621e+06 (roughly 330 MBytes of memory)\n",
      " Factor Ops : 1.946e+09 (less than 1 second per iteration)\n",
      " Threads    : 1\n",
      "\n",
      "Barrier performed 0 iterations in 5.81 seconds\n",
      "Barrier solve interrupted - model solved by another algorithm\n",
      "\n",
      "\n",
      "Solved with dual simplex\n",
      "Solved in 3878 iterations and 5.86 seconds\n",
      "Optimal objective  9.980640903e-01\n",
      "  8.712713 seconds (148 allocations: 236.649 MiB, 15.44% gc time)\n"
     ]
    },
    {
     "data": {
      "text/plain": [
       ":Optimal"
      ]
     },
     "execution_count": 12,
     "metadata": {},
     "output_type": "execute_result"
    }
   ],
   "source": [
    "@time @objective(m, Max, sum(sum(π[x, y] * Φ[x, y] for x in 1:nbx) for y in 1:nby));\n",
    "@time solve(m)"
   ]
  },
  {
   "cell_type": "code",
   "execution_count": 39,
   "metadata": {},
   "outputs": [
    {
     "name": "stdout",
     "output_type": "stream",
     "text": [
      "  9.199317 seconds (5.59 M allocations: 218.616 MiB, 80.45% gc time)\n",
      "  0.888665 seconds (1.61 M allocations: 62.248 MiB, 43.45% gc time)\n",
      "  0.649774 seconds (1.41 M allocations: 65.621 MiB, 34.21% gc time)\n"
     ]
    },
    {
     "ename": "LoadError",
     "evalue": "\u001b[91mlog is not defined for type Variable. Are you trying to build a nonlinear problem? Make sure you use @NLconstraint/@NLobjective.\u001b[39m",
     "output_type": "error",
     "traceback": [
      "\u001b[91mlog is not defined for type Variable. Are you trying to build a nonlinear problem? Make sure you use @NLconstraint/@NLobjective.\u001b[39m",
      "",
      "Stacktrace:",
      " [1] \u001b[1mlog\u001b[22m\u001b[22m\u001b[1m(\u001b[22m\u001b[22m::JuMP.Variable\u001b[1m)\u001b[22m\u001b[22m at \u001b[1m/Users/Max/.julia/v0.6/JuMP/src/operators.jl:630\u001b[22m\u001b[22m",
      " [2] \u001b[1mmacro expansion\u001b[22m\u001b[22m at \u001b[1m/Users/Max/.julia/v0.6/JuMP/src/parseExpr_staged.jl:489\u001b[22m\u001b[22m [inlined]",
      " [3] \u001b[1mmacro expansion\u001b[22m\u001b[22m at \u001b[1m/Users/Max/.julia/v0.6/JuMP/src/macros.jl:719\u001b[22m\u001b[22m [inlined]",
      " [4] \u001b[1manonymous\u001b[22m\u001b[22m at \u001b[1m./<missing>:?\u001b[22m\u001b[22m",
      " [5] \u001b[1minclude_string\u001b[22m\u001b[22m\u001b[1m(\u001b[22m\u001b[22m::String, ::String\u001b[1m)\u001b[22m\u001b[22m at \u001b[1m./loading.jl:522\u001b[22m\u001b[22m"
     ]
    }
   ],
   "source": [
    "m = Model(solver=GurobiSolver())\n",
    "@time @variable(m, π[1:nbx, 1:nby] >= 0)\n",
    "\n",
    "@time @constraint(m, distx[x=1:nbx], sum(π[x, y] for y in 1:nby) <= 1/nbx)\n",
    "@time @constraint(m, disty[y=1:nby], sum(π[x, y] for x in 1:nbx) <= 1/nby)\n",
    "@objective(m, Max, sum(sum(π[x, y] * Φ[x, y] - 0.1 * π[x, y] * log(π[x, y]) for x in 1:nbx) for y in 1:nby));\n",
    "solve(m)"
   ]
  },
  {
   "cell_type": "code",
   "execution_count": 40,
   "metadata": {},
   "outputs": [
    {
     "name": "stderr",
     "output_type": "stream",
     "text": [
      "\u001b[1m\u001b[36mINFO: \u001b[39m\u001b[22m\u001b[36mNo packages to install, update or remove\n",
      "\u001b[39m\u001b[1m\u001b[36mINFO: \u001b[39m\u001b[22m\u001b[36mPackage database updated\n",
      "\u001b[39m\u001b[1m\u001b[36mINFO: \u001b[39m\u001b[22m\u001b[36mMETADATA is out-of-date — you may not have the latest version of NLopt\n",
      "\u001b[39m\u001b[1m\u001b[36mINFO: \u001b[39m\u001b[22m\u001b[36mUse `Pkg.update()` to get the latest versions of your packages\n",
      "\u001b[39m"
     ]
    }
   ],
   "source": [
    "Pkg.add(\"NLopt\")"
   ]
  },
  {
   "cell_type": "code",
   "execution_count": null,
   "metadata": {},
   "outputs": [],
   "source": []
  }
 ],
 "metadata": {
  "kernelspec": {
   "display_name": "Julia 0.6.2",
   "language": "julia",
   "name": "julia-0.6"
  },
  "language_info": {
   "file_extension": ".jl",
   "mimetype": "application/julia",
   "name": "julia",
   "version": "0.6.2"
  }
 },
 "nbformat": 4,
 "nbformat_minor": 2
}
