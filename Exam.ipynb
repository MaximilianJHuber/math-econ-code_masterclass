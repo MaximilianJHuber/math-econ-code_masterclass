{
 "cells": [
  {
   "cell_type": "markdown",
   "metadata": {},
   "source": [
    "# Question 1"
   ]
  },
  {
   "cell_type": "markdown",
   "metadata": {},
   "source": [
    "## (i)\n",
    "The primal problem is:\n",
    "$$\\underset{\\pi\\geq0}{\\max}\\sum_{x,y}\\pi_{xy}\\Phi_{xy}$$\n",
    "s.t.\n",
    "$$\\sum_{x}\\pi_{xy} \\leq 1 \\quad \\forall y \\in \\{1, 2, 3, 4\\}$$\n",
    "$$\\sum_{y}\\pi_{xy} \\leq 1 \\quad \\forall x \\in \\{1, 2, 3\\}$$"
   ]
  },
  {
   "cell_type": "code",
   "execution_count": 1,
   "metadata": {},
   "outputs": [],
   "source": [
    "using Gurobi, JuMP"
   ]
  },
  {
   "cell_type": "code",
   "execution_count": 37,
   "metadata": {},
   "outputs": [
    {
     "data": {
      "text/plain": [
       ":Optimal"
      ]
     },
     "execution_count": 37,
     "metadata": {},
     "output_type": "execute_result"
    },
    {
     "name": "stdout",
     "output_type": "stream",
     "text": [
      "Academic license - for non-commercial use only\r\n"
     ]
    }
   ],
   "source": [
    "Φ = [1 3 2 3; 2 5 4 1; 2 1 2 0]\n",
    "\n",
    "m = Model(solver=GurobiSolver(Presolve=0, OutputFlag=0))\n",
    "\n",
    "@variable(m, π[1:3, 1:4] >= 0)\n",
    "@constraint(m, marginal_y[y=1:4], sum(π[x, y] for x in 1:3) <= 1)\n",
    "@constraint(m, marginal_x[x=1:3], sum(π[x, y] for y in 1:4) <= 1)\n",
    "@objective(m, Max, sum(sum(π[x, y] * Φ[x, y] for x in 1:3) for y in 1:4))\n",
    "\n",
    "solve(m)"
   ]
  },
  {
   "cell_type": "markdown",
   "metadata": {},
   "source": [
    "## (ii)"
   ]
  },
  {
   "cell_type": "code",
   "execution_count": 28,
   "metadata": {},
   "outputs": [
    {
     "data": {
      "text/plain": [
       "3×4 Array{Float64,2}:\n",
       " 0.0  0.0  0.0  1.0\n",
       " 0.0  1.0  0.0  0.0\n",
       " 0.0  0.0  1.0  0.0"
      ]
     },
     "execution_count": 28,
     "metadata": {},
     "output_type": "execute_result"
    }
   ],
   "source": [
    "getvalue(π)"
   ]
  },
  {
   "cell_type": "markdown",
   "metadata": {},
   "source": [
    "## (iii)"
   ]
  },
  {
   "cell_type": "code",
   "execution_count": 35,
   "metadata": {
    "scrolled": true
   },
   "outputs": [
    {
     "data": {
      "text/plain": [
       "3-element Array{Float64,1}:\n",
       " 3.0\n",
       " 5.0\n",
       " 2.0"
      ]
     },
     "execution_count": 35,
     "metadata": {},
     "output_type": "execute_result"
    }
   ],
   "source": [
    "getdual(marginal_x)"
   ]
  },
  {
   "cell_type": "code",
   "execution_count": 34,
   "metadata": {},
   "outputs": [
    {
     "data": {
      "text/plain": [
       "4-element Array{Float64,1}:\n",
       " 0.0\n",
       " 0.0\n",
       " 0.0\n",
       " 0.0"
      ]
     },
     "execution_count": 34,
     "metadata": {},
     "output_type": "execute_result"
    }
   ],
   "source": [
    "getdual(marginal_y)"
   ]
  },
  {
   "cell_type": "markdown",
   "metadata": {},
   "source": [
    "Intuitively, man 1 could threaten woman 4 to leave her for woman 2 (whom he needs to offer 0). Woman 2 cannot threaten man 2, because if she went to man 1, she would need to offer him 3 (leaves 0 for her), and man 3 would not want to match with her, again, she has no bargaining power. Man 3 can freely choose between woman 1 and 3 and extract the whole surplus."
   ]
  },
  {
   "cell_type": "markdown",
   "metadata": {},
   "source": [
    "## (iv)\n",
    "$W$ increases by $\\epsilon$ and the surplus goes to man 2."
   ]
  },
  {
   "cell_type": "markdown",
   "metadata": {},
   "source": [
    "## (v)\n",
    "Nothing changes."
   ]
  },
  {
   "cell_type": "markdown",
   "metadata": {},
   "source": [
    "# Question 2\n",
    "## (i)\n",
    "Since $\\Phi$ is twice continuously differentialbe, supermodularity is equivalent to $\\frac{\\partial^2 \\Phi(x,y)}{\\partial x \\partial y \\geq 0}$. For the $\\Phi$ at hand:\n",
    "$$\\frac{\\partial^2 \\Phi(x,y)}{\\partial x \\partial y} = \\kappa y^{\\kappa -1} \\geq 0$$\n",
    "We can expect positive assortative matching."
   ]
  },
  {
   "cell_type": "markdown",
   "metadata": {},
   "source": [
    "## (ii)"
   ]
  },
  {
   "cell_type": "markdown",
   "metadata": {},
   "source": [
    "Since $F_X(x) = 1-\\big(1-\\frac{\\beta x}{B}\\big)^\\frac{1}{\\beta}$, and the fact that the rank of $x$ and the rank of the matched $y$ agrees (because of the rearrangement theorem):\n",
    "\n",
    "$$T(x) = y = A \\big(1-\\frac{\\beta x}{B}\\big)^{-\\frac{\\alpha}{\\beta}}$$"
   ]
  },
  {
   "cell_type": "markdown",
   "metadata": {},
   "source": [
    "## (iii)\n",
    "The constraints of the dual problem are equivalent to:\n",
    "$$v(y) = \\underset{x}{\\max} \\{\\Phi(x,y) - w(x) \\}$$\n",
    "which implies the necessary first order condition:\n",
    "$$\\frac{\\partial \\Phi}{\\partial x}(x,y) = 1y^\\kappa = A \\Big(1-\\frac{\\beta x}{B}\\Big)^{-\\frac{\\kappa \\alpha}{\\beta}} = w'(x)$$\n",
    "$$\\frac{A\\big(\\beta x - B\\big) \\Big(1-\\frac{\\beta x}{B}\\Big)^{-\\frac{\\kappa \\alpha}{\\beta}}}{\\beta - \\kappa \\alpha}$$"
   ]
  },
  {
   "cell_type": "markdown",
   "metadata": {},
   "source": [
    "# Question 3\n",
    "## (i)\n",
    "\n",
    "The primal problem is:\n",
    "$$\\underset{\\pi\\geq0}{\\max}\\sum_{x,y}\\mu_{xy}\\Phi_{xy}$$\n",
    "s.t.\n",
    "$$\\sum_{x}\\mu_{xy} \\leq m_y \\quad \\forall y$$\n",
    "$$\\sum_{y}\\mu_{xy} \\leq n_x \\quad \\forall x$$\n",
    "The dual is:\n",
    "$$\\underset{u, v \\geq 0}{\\min}\\sum_{x}n_x u_x + \\sum_{y}m_y v_y$$\n",
    "s.t.\n",
    "$$u_x + v_y \\geq \\Phi_{xy} \\quad \\forall x,y$$"
   ]
  },
  {
   "cell_type": "markdown",
   "metadata": {},
   "source": [
    "Let me write out clear definitions. A payoff vector $(u, v) \\in \\mathbb{R}^{N+M}$ is stable, if $\\exists \\mu{M}$ such that $(\\mu, u, v)$ is what slide 14 of block 4 calls a \"stable matching\", which is used synonymously with \"stable outcome\". (Mind: the conditions on $\\mu$ are already part of the definition on the slides).\n",
    "\n",
    "Now, feasibility means exactly $u_x + v_y \\geq \\Phi_{xy} \\quad \\forall x,y$.\n",
    "\n",
    "If $(u,v,)$ is an optimal solution to the dual, then it is stable.\n"
   ]
  },
  {
   "cell_type": "markdown",
   "metadata": {},
   "source": [
    "## (ii)\n",
    "\n",
    "Let $S$ be a set containing all stable payoff vectors and $\\underline{u}_x$ is the minimal surplus $x$ can achieve in all stable payoffs. (Mind: we assume the minimum exists, i.e. that the projection on the $x$-th coordinate of the $u$ vectors is a closed set). Similarly, $\\bar{v}_y$ is the maximal value $y$ can achieve.\n",
    "\n",
    "To show that $(\\underline{u}_x, \\bar{v}_y) \\in \\mathbb{R}^{N+M}$ is a stable payoff, I need to find a $\\mu$ and check conditions  (5), (6), and (7) on the slides.\n",
    "\n",
    "Let $\\mu$ be one that is associated with a $(u,v)$ that minimizes or maximizes the optimization for $x$ or $y$, any one of those will do.\n",
    "\n",
    "* (5): fulfilled by definition\n",
    "* (6): Choose any $x$, then by definition $\\underline{u}_x + v_y^x \\geq \\Phi_{xy}$, where $v_y^x$ are the women's payoffs in the payoff vector that minimizes $x$'s payoff. But $v_y^x \\leq \\bar{v}_y$, hence also $\\underline{u}_x + \\bar{v}_y \\geq \\Phi_{xy} \\, \\forall y$. An analogous argument holds for $y$.\n",
    "* (7): Suppose contrarily that $x$ and $y$ are matched, but $\\underline{u}_x + \\bar{v}_y > \\Phi_{xy}$. Then $\\underline{u}_x$ was not minimal. Contracition."
   ]
  },
  {
   "cell_type": "markdown",
   "metadata": {},
   "source": [
    "## (iii)\n",
    "First, solve the primal problem, this yields $(W, \\mu, u, v)$.\n",
    "Then, solve:\n",
    "\n",
    "$$\\underset{u, v \\geq 0}{\\min}\\sum_{x}u_x - \\sum_{y}v_y$$\n",
    "$$u_x + v_y \\geq \\Phi_{xy} \\quad \\forall x,y \\,\\text{such that} \\, \\mu_{xy}=0$$\n",
    "$$u_x + v_y = \\Phi_{xy} \\quad \\forall x,y \\,\\text{such that} \\, \\mu_{xy}>0$$\n",
    "$$\\sum_{x}n_x u_x + \\sum_{y}m_y v_y = W$$"
   ]
  },
  {
   "cell_type": "markdown",
   "metadata": {},
   "source": [
    "## (iv)"
   ]
  },
  {
   "cell_type": "code",
   "execution_count": null,
   "metadata": {},
   "outputs": [],
   "source": [
    "m = Model(solver=GurobiSolver(Presolve=0, OutputFlag=0))\n",
    "\n",
    "@variable(m, u[1:nx] >= 0)\n",
    "@variable(m, v[1:ny] >= 0)\n",
    "\n",
    "for i in 1:nx, j in 1:ny\n",
    "    if getvalue(\\pi)[i,j] > 0\n",
    "        @constraint(m, u[i] + u[j] == Φ{i, j})\n",
    "    else\n",
    "        @constraint(m, u[i] + u[j] >= Φ{i, j})\n",
    "    end\n",
    "end\n",
    "\n",
    "@constraint(m, sum(nx[x] * u[x] for x in 1:nx) + sum(ny[y] * v[y] for y in 1:ny) == W)\n",
    "\n",
    "@objective(m, Min, sum(u[x] for x in 1:nx) - sum(v[y] for y in 1:ny))\n",
    "\n",
    "solve(m)"
   ]
  },
  {
   "cell_type": "markdown",
   "metadata": {},
   "source": [
    "# Question 7"
   ]
  },
  {
   "cell_type": "code",
   "execution_count": 24,
   "metadata": {},
   "outputs": [
    {
     "data": {
      "text/plain": [
       "6-element Array{Float64,1}:\n",
       " 0.541909\n",
       " 0.547225\n",
       " 0.287581\n",
       " 0.39739 \n",
       " 0.151758\n",
       " 0.0     "
      ]
     },
     "execution_count": 24,
     "metadata": {},
     "output_type": "execute_result"
    },
    {
     "name": "stdout",
     "output_type": "stream",
     "text": [
      "Academic license - for non-commercial use only\r\n"
     ]
    }
   ],
   "source": [
    "using Distributions\n",
    "nbDraws = 1000\n",
    "ϵ_iy = rand(MvNormal(zeros(6), 0.5 * eye(6) + 0.5 * ones(6,6)), nbDraws)'\n",
    "s_y = [0.216191, 0.263915, 0.141353, 0.176405, 0.113032, 0.089103]\n",
    "s_y = s_y .+ (1-sum(s_y))/6 #it needs to sum to one!\n",
    "\n",
    "m = Model(solver=GurobiSolver(Presolve=0, OutputFlag=0))\n",
    "\n",
    "@variable(m, π[1:nbDraws, 1:6] >= 0)\n",
    "@constraint(m, marginal_y[y=1:6], sum(π[x, y] for x in 1:nbDraws) == s_y[y])\n",
    "@constraint(m, marginal_x[x=1:nbDraws], sum(π[x, y] for y in 1:6) == 1/nbDraws)\n",
    "@objective(m, Max, sum(sum(π[x, y] * ϵ_iy[x, y] for x in 1:nbDraws) for y in 1:6))\n",
    "\n",
    "solve(m)\n",
    "\n",
    "Uhat_y = - getdual(marginal_y) + getdual(marginal_y)[end]"
   ]
  },
  {
   "cell_type": "markdown",
   "metadata": {},
   "source": [
    "# Question 8\n",
    "## (a)\n",
    "Let $\\mathcal{A}$ be the set of edges, and $X$ be the set of nodes. $\\nabla \\in \\mathbb{R}^{|\\mathcal{A}| \\times |X|}$.\n",
    "The dual is:\n",
    "$$\\underset{\\phi}{\\max}\\sum_{x \\in X}n_x \\phi_x - \\sigma \\sum_{a \\in A} \\exp \\Big(\\frac{\\sum_x \\nabla_{ax} \\phi_x - c_{a} - \\sigma}{\\sigma}\\Big)$$\n",
    "This is an unconstrained optimization problem with first order conditions:\n",
    "$$\\forall x\\quad n_x = \\sum_a \\nabla_{ax} \\exp\\Big(\\frac{\\sum_{x'} \\nabla_{ax'} \\phi_{x'} - c_a - \\sigma}{\\sigma}\\Big)$$"
   ]
  },
  {
   "cell_type": "markdown",
   "metadata": {},
   "source": [
    "## (b)\n",
    "The easiest would be to type up the problem and solve it with IpOpt or Knitro, or we do IPFP."
   ]
  },
  {
   "cell_type": "markdown",
   "metadata": {},
   "source": [
    "## (c)\n",
    "The non-linear program is easy:"
   ]
  },
  {
   "cell_type": "code",
   "execution_count": null,
   "metadata": {},
   "outputs": [],
   "source": [
    "using Ipopt\n",
    "m = Model(solver=IpoptSolver()\n",
    "\n",
    "@variable(m, ϕ[1:nx])\n",
    "\n",
    "@NLobjective(m, Max, sum(nx[x] * ϕ[x] for x in 1:nx) - σ * sum(exp((sum(∇[a,x] * ϕ[x] for x in 1:nx) -c[a] -σ)/σ) for a in 1:na))\n",
    "\n",
    "solve(m)"
   ]
  },
  {
   "cell_type": "markdown",
   "metadata": {},
   "source": [
    "The IFPF needs some more work:\n",
    "$$\\forall x\\quad n_x = \\sum_a \\nabla_{ax} \\cdot \\exp\\Big(\\frac{\\nabla_{ax} \\phi_{x}}{\\sigma}\\Big) \\cdot \\exp\\Big(\\frac{\\sum_{x'\\neq x} \\nabla_{ax'} \\phi_{x'} - c_a - \\sigma}{\\sigma}\\Big)$$\n",
    "But I know how $\\nabla$ looks like!\n",
    "\n",
    "$$\\forall x\\quad n_x = \\exp\\Big(\\frac{\\phi_{x}}{\\sigma}\\Big) \\cdot \\sum_{a: \\, \\text{inflow to x}}  \\exp\\Big(\\frac{\\sum_{x'\\neq x} \\nabla_{ax'} \\phi_{x'} - c_a - \\sigma}{\\sigma}\\Big) - \n",
    "\\exp\\Big(\\frac{-\\phi_{x}}{\\sigma}\\Big) \\cdot \\sum_{a: \\, \\text{outflow from x}}  \\exp\\Big(\\frac{\\sum_{x'\\neq x} \\nabla_{ax'} \\phi_{x'} - c_a - \\sigma}{\\sigma}\\Big)$$\n",
    "\n",
    "It does not seem like $\\phi$ could be explicitly expressed from $\\phi_{x'}$, so I would need to use a root finding method to find $\\phi_x$. I could probably work out bounds on $\\phi_x$ and solve the equation with bisection, but I am running out of time.\n",
    "\n",
    "Here is pseudo-code:"
   ]
  },
  {
   "cell_type": "code",
   "execution_count": null,
   "metadata": {},
   "outputs": [],
   "source": [
    "function ipfp(∇, c; σ = 1e-1, tol=1e-6)\n",
    "    ϕ = zeros(size(∇, 1))\n",
    "    ϕold = copy(ϕ)\n",
    "\n",
    "    while (error > tol)\n",
    "\n",
    "        for i in 1:length(ϕ)\n",
    "            #solve for ϕ[i] as a function of ϕold[-i] using bisection\n",
    "        end\n",
    "        \n",
    "        error = maximum(abs.(ϕ - ϕold))\n",
    "        ϕold = copy(ϕ)\n",
    "    end\n",
    "\n",
    "    return ϕ\n",
    "end"
   ]
  }
 ],
 "metadata": {
  "kernelspec": {
   "display_name": "Julia 0.6.2",
   "language": "julia",
   "name": "julia-0.6"
  },
  "language_info": {
   "file_extension": ".jl",
   "mimetype": "application/julia",
   "name": "julia",
   "version": "0.6.2"
  }
 },
 "nbformat": 4,
 "nbformat_minor": 2
}
