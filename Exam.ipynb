{
 "cells": [
  {
   "cell_type": "markdown",
   "metadata": {},
   "source": [
    "# Question 1"
   ]
  },
  {
   "cell_type": "markdown",
   "metadata": {},
   "source": [
    "## (i)\n",
    "The primal problem is:\n",
    "$$\\underset{\\pi\\geq0}{\\max}\\sum_{x,y}\\pi_{xy}\\Phi_{xy}$$\n",
    "s.t.\n",
    "$$\\sum_{x}\\pi_{xy} \\leq 1 \\quad \\forall y \\in \\{1, 2, 3, 4\\}$$\n",
    "$$\\sum_{y}\\pi_{xy} \\leq 1 \\quad \\forall x \\in \\{1, 2, 3\\}$$"
   ]
  },
  {
   "cell_type": "code",
   "execution_count": 1,
   "metadata": {},
   "outputs": [],
   "source": [
    "using Gurobi, JuMP"
   ]
  },
  {
   "cell_type": "code",
   "execution_count": 37,
   "metadata": {},
   "outputs": [
    {
     "data": {
      "text/plain": [
       ":Optimal"
      ]
     },
     "execution_count": 37,
     "metadata": {},
     "output_type": "execute_result"
    },
    {
     "name": "stdout",
     "output_type": "stream",
     "text": [
      "Academic license - for non-commercial use only\r\n"
     ]
    }
   ],
   "source": [
    "Φ = [1 3 2 3; 2 5 4 1; 2 1 2 0]\n",
    "\n",
    "m = Model(solver=GurobiSolver(Presolve=0, OutputFlag=0))\n",
    "\n",
    "@variable(m, π[1:3, 1:4] >= 0)\n",
    "@constraint(m, marginal_y[y=1:4], sum(π[x, y] for x in 1:3) <= 1)\n",
    "@constraint(m, marginal_x[x=1:3], sum(π[x, y] for y in 1:4) <= 1)\n",
    "@objective(m, Max, sum(sum(π[x, y] * Φ[x, y] for x in 1:3) for y in 1:4))\n",
    "\n",
    "solve(m)"
   ]
  },
  {
   "cell_type": "markdown",
   "metadata": {},
   "source": [
    "## (ii)"
   ]
  },
  {
   "cell_type": "code",
   "execution_count": 28,
   "metadata": {},
   "outputs": [
    {
     "data": {
      "text/plain": [
       "3×4 Array{Float64,2}:\n",
       " 0.0  0.0  0.0  1.0\n",
       " 0.0  1.0  0.0  0.0\n",
       " 0.0  0.0  1.0  0.0"
      ]
     },
     "execution_count": 28,
     "metadata": {},
     "output_type": "execute_result"
    }
   ],
   "source": [
    "getvalue(π)"
   ]
  },
  {
   "cell_type": "markdown",
   "metadata": {},
   "source": [
    "## (iii)"
   ]
  },
  {
   "cell_type": "code",
   "execution_count": 35,
   "metadata": {
    "scrolled": true
   },
   "outputs": [
    {
     "data": {
      "text/plain": [
       "3-element Array{Float64,1}:\n",
       " 3.0\n",
       " 5.0\n",
       " 2.0"
      ]
     },
     "execution_count": 35,
     "metadata": {},
     "output_type": "execute_result"
    }
   ],
   "source": [
    "getdual(marginal_x)"
   ]
  },
  {
   "cell_type": "code",
   "execution_count": 34,
   "metadata": {},
   "outputs": [
    {
     "data": {
      "text/plain": [
       "4-element Array{Float64,1}:\n",
       " 0.0\n",
       " 0.0\n",
       " 0.0\n",
       " 0.0"
      ]
     },
     "execution_count": 34,
     "metadata": {},
     "output_type": "execute_result"
    }
   ],
   "source": [
    "getdual(marginal_y)"
   ]
  },
  {
   "cell_type": "markdown",
   "metadata": {},
   "source": [
    "Intuitively, man 1 could threaten woman 4 to leave her for woman 2 (whom he needs to offer 0). Woman 2 cannot threaten man 2, because if she went to man 1, she would need to offer him 3 (leaves 0 for her), and man 3 would not want to match with her, again, she has no bargaining power. Man 3 can freely choose between woman 1 and 3 and extract the whole surplus."
   ]
  },
  {
   "cell_type": "markdown",
   "metadata": {},
   "source": [
    "## (iv)\n",
    "$W$ increases by $\\epsilon$ and the surplus goes to man 2."
   ]
  },
  {
   "cell_type": "markdown",
   "metadata": {},
   "source": [
    "## (v)\n",
    "Nothing changes."
   ]
  },
  {
   "cell_type": "markdown",
   "metadata": {},
   "source": [
    "# Question 2\n",
    "## (i)\n",
    "Since $\\Phi$ is twice continuously differentialbe, supermodularity is equivalent to $\\frac{\\partial^2 \\Phi(x,y)}{\\partial x \\partial y \\geq 0}$. For the $\\Phi$ at hand:\n",
    "$$\\frac{\\partial^2 \\Phi(x,y)}{\\partial x \\partial y} = \\kappa y^{\\kappa -1} \\geq 0$$\n",
    "We can expect positive assortative matching."
   ]
  },
  {
   "cell_type": "markdown",
   "metadata": {},
   "source": [
    "## (ii)"
   ]
  },
  {
   "cell_type": "markdown",
   "metadata": {},
   "source": [
    "Since $F_X(x) = 1-\\big(1-\\frac{\\beta x}{B}\\big)^\\frac{1}{\\beta}$, and the fact that the rank of $x$ and the rank of the matched $y$ agrees (because of the rearrangement theorem):\n",
    "\n",
    "$$T(x) = y = A \\big(1-\\frac{\\beta x}{B}\\big)^{-\\frac{\\alpha}{\\beta}}$$"
   ]
  },
  {
   "cell_type": "markdown",
   "metadata": {},
   "source": [
    "## (iii)\n",
    "The constraints of the dual problem are equivalent to:\n",
    "$$v(y) = \\underset{x}{\\max} \\{\\Phi(x,y) - w(x) \\}$$\n",
    "which implies the necessary first order condition:\n",
    "$$\\frac{\\partial \\Phi}{\\partial x}(x,y) = 1y^\\kappa = A \\Big(1-\\frac{\\beta x}{B}\\Big)^{-\\frac{\\kappa \\alpha}{\\beta}} = w'(x)$$\n",
    "$$\\frac{A\\big(\\beta x - B\\big) \\Big(1-\\frac{\\beta x}{B}\\Big)^{-\\frac{\\kappa \\alpha}{\\beta}}}{\\beta - \\kappa \\alpha}$$"
   ]
  },
  {
   "cell_type": "markdown",
   "metadata": {},
   "source": [
    "# Question 3\n",
    "<span style=\"color:red\">I am not sure about this question. The discription is confusing and has bad grammar.</style>\n",
    "## (i)\n",
    "\n",
    "The primal problem is:\n",
    "$$\\underset{\\pi\\geq0}{\\max}\\sum_{x,y}\\mu_{xy}\\Phi_{xy}$$\n",
    "s.t.\n",
    "$$\\sum_{x}\\mu_{xy} \\leq m_y \\quad \\forall y$$\n",
    "$$\\sum_{y}\\mu_{xy} \\leq n_x \\quad \\forall x$$\n",
    "The dual is:\n",
    "$$\\underset{u, v \\geq 0}{\\min}\\sum_{x}n_x u_x + \\sum_{y}m_y v_y$$\n",
    "s.t.\n",
    "$$u_x + v_y \\geq \\Phi_{xy} \\quad \\forall x,y$$"
   ]
  },
  {
   "cell_type": "markdown",
   "metadata": {},
   "source": [
    "I am very unclear about what is meant by $(u_x, v_y)$. Is it $(u_x, v_y) \\in \\mathbb{R}^2$ or $(u_x, v_y) \\in \\mathbb{R}^{n_x + m_y}$? I think the first one. I see them as the payoffs for a man and a woman who are married to each other. <span style=\"color:red\">But then again, the text calls both $(u_x, v_y)$ and $(u, v)$ \"vector of stable payoffs\", so maybe I am wrong!</style>\n",
    "\n"
   ]
  },
  {
   "cell_type": "markdown",
   "metadata": {},
   "source": [
    "# Question 7"
   ]
  },
  {
   "cell_type": "code",
   "execution_count": 23,
   "metadata": {},
   "outputs": [
    {
     "data": {
      "text/plain": [
       "6-element Array{Float64,1}:\n",
       "  0.34674  \n",
       "  0.424859 \n",
       "  0.127815 \n",
       "  0.217393 \n",
       " -0.0423978\n",
       "  0.0      "
      ]
     },
     "execution_count": 23,
     "metadata": {},
     "output_type": "execute_result"
    },
    {
     "name": "stdout",
     "output_type": "stream",
     "text": [
      "Academic license - for non-commercial use only\r\n"
     ]
    }
   ],
   "source": [
    "using Distributions\n",
    "nbDraws = 1000\n",
    "ϵ_iy = rand(MvNormal(zeros(6), 0.5 * eye(6) + 0.5 * ones(6,6)), nbDraws)'\n",
    "s_y = [0.216191, 0.263915, 0.141353, 0.176405, 0.113032, 0.089103]\n",
    "s_y = s_y .+ (1-sum(s_y))/6 #it needs to sum to one!\n",
    "\n",
    "m = Model(solver=GurobiSolver(Presolve=0, OutputFlag=0))\n",
    "\n",
    "@variable(m, π[1:nbDraws, 1:6] >= 0)\n",
    "@constraint(m, marginal_y[y=1:6], sum(π[x, y] for x in 1:nbDraws) == s_y[y])\n",
    "@constraint(m, marginal_x[x=1:nbDraws], sum(π[x, y] for y in 1:6) == 1/nbDraws)\n",
    "@objective(m, Max, sum(sum(π[x, y] * ϵ_iy[x, y] for x in 1:nbDraws) for y in 1:6))\n",
    "\n",
    "solve(m)\n",
    "\n",
    "Uhat_y = - getdual(marginal_y) + getdual(marginal_y)[end]"
   ]
  },
  {
   "cell_type": "markdown",
   "metadata": {},
   "source": [
    "# Question 8\n",
    "## (a)\n",
    "\n",
    "The dual is:\n",
    "$$\\underset{\\phi}{\\max}\\sum_{x \\in X}n_x \\phi_x - \\sigma \\sum_{(x,y) \\in A} \\exp \\Big(\\frac{\\nabla_{xy} \\phi - c_{xy} - \\sigma}{\\sigma}\\Big)$$"
   ]
  },
  {
   "cell_type": "code",
   "execution_count": null,
   "metadata": {},
   "outputs": [],
   "source": []
  }
 ],
 "metadata": {
  "kernelspec": {
   "display_name": "Julia 0.6.2",
   "language": "julia",
   "name": "julia-0.6"
  },
  "language_info": {
   "file_extension": ".jl",
   "mimetype": "application/julia",
   "name": "julia",
   "version": "0.6.2"
  }
 },
 "nbformat": 4,
 "nbformat_minor": 2
}
