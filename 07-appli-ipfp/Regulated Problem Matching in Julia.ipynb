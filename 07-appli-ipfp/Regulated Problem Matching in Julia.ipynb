{
 "cells": [
  {
   "cell_type": "code",
   "execution_count": 1,
   "metadata": {},
   "outputs": [],
   "source": [
    "using CSV\n",
    "using Distributions\n",
    "using StatsFuns\n",
    "\n",
    "dfx = CSV.read(\"./Xvals.csv\", delim=',', header=true)\n",
    "dfy = CSV.read(\"./Yvals.csv\", delim=',', header=true)\n",
    "nb = size(dfx, 1);\n",
    "A = convert(Matrix{Float64}, CSV.read(\"./affinitymatrix.csv\", delim=',', header=true)[1:10, 2:11]);\n",
    "X = convert(Matrix{Float64}, dfx)\n",
    "Y = convert(Matrix{Float64}, dfy);"
   ]
  },
  {
   "cell_type": "code",
   "execution_count": 2,
   "metadata": {},
   "outputs": [],
   "source": [
    "X = (X .- mean(X, 1)) ./ std(X, 1)\n",
    "Y = (Y .- mean(Y, 1)) ./ std(Y, 1);"
   ]
  },
  {
   "cell_type": "code",
   "execution_count": 3,
   "metadata": {},
   "outputs": [],
   "source": [
    "Φ = X * A * Y';"
   ]
  },
  {
   "cell_type": "code",
   "execution_count": 4,
   "metadata": {},
   "outputs": [
    {
     "data": {
      "text/plain": [
       "iterate (generic function with 1 method)"
      ]
     },
     "execution_count": 4,
     "metadata": {},
     "output_type": "execute_result"
    }
   ],
   "source": [
    "function iterate(Φ; σ = 1e-1, tol=1e-6)\n",
    "    K = exp.(Φ/σ)\n",
    "    nbx = size(Φ, 1)\n",
    "    nby = size(Φ, 2)\n",
    "    Ax = ones(nbx)/nbx\n",
    "    By = ones(nby)/nby\n",
    "    error = 1.\n",
    "    iteration = 0\n",
    "\n",
    "    #π = ones(nb, nb)*1/nb/nb\n",
    "    #πold = ones(nb, nb)*1/nb/nb;\n",
    "\n",
    "    Axold = copy(Ax)\n",
    "    Byold = copy(By)\n",
    "\n",
    "    while (error > tol)\n",
    "\n",
    "        Ax = (1/nbx)./(K * By)\n",
    "        By = (1/nby)./(Ax' * K)'\n",
    "\n",
    "        #πold = copy(π)\n",
    "\n",
    "        #error = maximum(abs.(π-πold))\n",
    "        error = max(maximum(abs.(Ax - Axold)), maximum(abs.(By - Byold)))\n",
    "        iteration += 1\n",
    "        Axold = copy(Ax)\n",
    "        Byold = copy(By)\n",
    "    end\n",
    "\n",
    "    π = Ax .* K .* By'\n",
    "    return (π, sum(π .* Φ), iteration, error)\n",
    "end"
   ]
  },
  {
   "cell_type": "code",
   "execution_count": 5,
   "metadata": {},
   "outputs": [
    {
     "name": "stdout",
     "output_type": "stream",
     "text": [
      "  3.073720 seconds (416.82 k allocations: 96.653 MiB, 3.21% gc time)\n"
     ]
    },
    {
     "data": {
      "text/plain": [
       "([1.0315e-9 5.32028e-9 … 7.20743e-16 1.74851e-6; 5.80025e-8 1.14765e-6 … 7.19417e-9 8.83245e-8; … ; 1.67629e-9 2.71497e-10 … 1.89219e-7 1.43221e-7; 9.67748e-8 3.3422e-7 … 5.09165e-9 3.15713e-8], 1.5593130457556408, 416, 9.970700460826265e-7)"
      ]
     },
     "execution_count": 5,
     "metadata": {},
     "output_type": "execute_result"
    }
   ],
   "source": [
    "@time iterate(Φ)"
   ]
  },
  {
   "cell_type": "code",
   "execution_count": 6,
   "metadata": {},
   "outputs": [
    {
     "data": {
      "text/plain": [
       "10×8 Array{Float64,2}:\n",
       " 0.0769457  0.385665    0.279565  0.609245  …  0.21408    0.294209  0.683291 \n",
       " 0.0780143  0.863369    0.508569  0.618796     0.269703   0.567243  0.0888409\n",
       " 0.434742   0.409363    0.84595   0.45049      0.561631   0.577851  0.321521 \n",
       " 0.330454   0.279709    0.115476  0.412075     0.0320698  0.656574  0.331258 \n",
       " 0.808554   0.661124    0.403367  0.063296     0.412741   0.481697  0.723882 \n",
       " 0.913206   0.00716369  0.792355  0.982216  …  0.743961   0.891388  0.4274   \n",
       " 0.371863   0.671858    0.605177  0.315029     0.709756   0.945309  0.28801  \n",
       " 0.675954   0.163926    0.444574  0.247496     0.551878   0.925864  0.85485  \n",
       " 0.398149   0.833481    0.149874  0.01727      0.900518   0.140022  0.563715 \n",
       " 0.860873   0.23888     0.413898  0.558556     0.155949   0.154311  0.168634 "
      ]
     },
     "execution_count": 6,
     "metadata": {},
     "output_type": "execute_result"
    }
   ],
   "source": [
    "Φ = rand(Uniform(), 10, 8)"
   ]
  },
  {
   "cell_type": "code",
   "execution_count": 34,
   "metadata": {},
   "outputs": [
    {
     "name": "stdout",
     "output_type": "stream",
     "text": [
      "  0.000703 seconds (5.04 k allocations: 749.234 KiB)\n"
     ]
    },
    {
     "data": {
      "text/plain": [
       "([3.4441e-26 6.79586e-8 … 1.23167e-23 0.0699578; 1.01113e-40 0.1 … 2.34157e-26 2.81518e-42; … ; 5.60238e-27 0.00348553 … 4.52713e-45 8.19049e-22; 0.0414009 3.10365e-24 … 1.11991e-39 3.37258e-34], 0.8255739777893775, 502, 9.760260581970215e-7)"
      ]
     },
     "execution_count": 34,
     "metadata": {},
     "output_type": "execute_result"
    }
   ],
   "source": [
    "@time iterate(Φ, σ = 1e-2)"
   ]
  },
  {
   "cell_type": "code",
   "execution_count": 41,
   "metadata": {},
   "outputs": [
    {
     "data": {
      "text/plain": [
       "iterate2 (generic function with 1 method)"
      ]
     },
     "execution_count": 41,
     "metadata": {},
     "output_type": "execute_result"
    }
   ],
   "source": [
    "function iterate2(Φ; σ = 1e-1, tol=1e-6)\n",
    "    K = exp.(Φ/σ)\n",
    "    nbx = size(Φ, 1)\n",
    "    nby = size(Φ, 2)\n",
    "    ux = ones(nbx)/nbx\n",
    "    vy = ones(nby)/nby\n",
    "    error = 1.\n",
    "    iteration = 0\n",
    "\n",
    "    #π = ones(nb, nb)*1/nb/nb\n",
    "    #πold = ones(nb, nb)*1/nb/nb;\n",
    "\n",
    "    uxold = copy(ux)\n",
    "    vyold = copy(vy)\n",
    "\n",
    "    while (error > tol)\n",
    "\n",
    "        for x in 1:nbx\n",
    "            ux[x] = - σ * log((1/nbx)) + σ * logsumexp((Φ[x, :] - vy)/σ)\n",
    "        end\n",
    "        \n",
    "        for y in 1:nby\n",
    "            vy[y] = - σ * log((1/nby)) + σ * logsumexp((Φ[:, y] - ux)/σ)\n",
    "        end\n",
    "        \n",
    "        #vy = sum(exp.((Φ .- ux)/σ), 1)\n",
    "\n",
    "        #πold = copy(π)\n",
    "\n",
    "        #error = maximum(abs.(π-πold))\n",
    "        error = max(maximum(abs.(ux - uxold)), maximum(abs.(vy - vyold)))\n",
    "        iteration += 1\n",
    "        uxold = copy(ux)\n",
    "        vyold = copy(vy)\n",
    "    end\n",
    "\n",
    "    π = exp.(( Φ .- ux .- vy') / σ)\n",
    "    return (π, sum(π .* Φ), iteration, error)\n",
    "    \n",
    "end"
   ]
  },
  {
   "cell_type": "code",
   "execution_count": 42,
   "metadata": {},
   "outputs": [
    {
     "name": "stdout",
     "output_type": "stream",
     "text": [
      "  0.610936 seconds (132.09 k allocations: 6.101 MiB)\n"
     ]
    },
    {
     "data": {
      "text/plain": [
       "([3.44301e-26 6.77759e-8 … 1.22825e-23 0.0699525; 1.01362e-40 0.100008 … 2.34154e-26 2.82278e-42; … ; 5.61695e-27 0.00348631 … 4.5277e-45 8.21376e-22; 0.0414004 3.09625e-24 … 1.11713e-39 3.37335e-34], 0.8255752316470029, 165, 9.54459414392872e-7)"
      ]
     },
     "execution_count": 42,
     "metadata": {},
     "output_type": "execute_result"
    }
   ],
   "source": [
    "@time iterate2(Φ, σ = 1e-2)"
   ]
  },
  {
   "cell_type": "code",
   "execution_count": 1,
   "metadata": {
    "scrolled": true
   },
   "outputs": [],
   "source": [
    "using BenchmarkTools"
   ]
  },
  {
   "cell_type": "code",
   "execution_count": 15,
   "metadata": {},
   "outputs": [
    {
     "name": "stdout",
     "output_type": "stream",
     "text": [
      "\t.section\t__TEXT,__text,regular,pure_instructions\n",
      "Filename: In[15]\n",
      "\tpushq\t%rbp\n",
      "\tmovq\t%rsp, %rbp\n",
      "Source line: 7\n",
      "\ttestq\t%rdx, %rdx\n",
      "\tjle\tL114\n",
      "Source line: 8\n",
      "\tmovq\t(%rdi), %rax\n",
      "\tmovq\t24(%rdi), %r8\n",
      "\tmovq\t(%rsi), %r9\n",
      "\tmovq\t24(%rsi), %r11\n",
      "\tmovl\t$1, %r10d\n",
      "\tmovabsq\t$4741619688, %rcx       ## imm = 0x11A9F5FE8\n",
      "\tmovsd\t(%rcx), %xmm0           ## xmm0 = mem[0],zero\n",
      "\tnopl\t(%rax,%rax)\n",
      "L48:\n",
      "\txorl\t%ecx, %ecx\n",
      "\tnopw\t%cs:(%rax,%rax)\n",
      "L64:\n",
      "\tcmpq\t%r8, %rcx\n",
      "\tjae\tL119\n",
      "\tcmpq\t%r11, %rcx\n",
      "\tjae\tL153\n",
      "\tmovsd\t(%r9,%rcx,8), %xmm1     ## xmm1 = mem[0],zero\n",
      "\tmulsd\t%xmm0, %xmm1\n",
      "\taddsd\t(%rax,%rcx,8), %xmm1\n",
      "\tmovsd\t%xmm1, (%rax,%rcx,8)\n",
      "Source line: 7\n",
      "\tincq\t%rcx\n",
      "\tcmpq\t%rcx, %rdx\n",
      "\tjne\tL64\n",
      "Source line: 6\n",
      "\tincq\t%r10\n",
      "\tcmpq\t$1001, %r10             ## imm = 0x3E9\n",
      "\tjne\tL48\n",
      "Source line: 8\n",
      "L114:\n",
      "\tmovq\t%rbp, %rsp\n",
      "\tpopq\t%rbp\n",
      "\tretq\n",
      "L119:\n",
      "\tmovq\t%rsp, %rax\n",
      "\tleaq\t-16(%rax), %rsi\n",
      "\tmovq\t%rsi, %rsp\n",
      "\tincq\t%rcx\n",
      "\tmovq\t%rcx, -16(%rax)\n",
      "\tmovabsq\t$jl_bounds_error_ints, %rax\n",
      "\tmovl\t$1, %edx\n",
      "\tcallq\t*%rax\n",
      "L153:\n",
      "\tmovq\t%rsp, %rdx\n",
      "\tleaq\t-16(%rdx), %rax\n",
      "\tmovq\t%rax, %rsp\n",
      "\tincq\t%rcx\n",
      "\tmovq\t%rcx, -16(%rdx)\n",
      "\tmovabsq\t$jl_bounds_error_ints, %rcx\n",
      "\tmovl\t$1, %edx\n",
      "\tmovq\t%rsi, %rdi\n",
      "\tmovq\t%rax, %rsi\n",
      "\tcallq\t*%rcx\n",
      "\tnopw\t%cs:(%rax,%rax)\n"
     ]
    }
   ],
   "source": [
    "n = convert(Int64, 1e5)\n",
    "a = zeros(n)\n",
    "b = ones(n)\n",
    "\n",
    "function test!(a, b, n)\n",
    "    for i in 1:1000\n",
    "        for j in 1:n\n",
    "            a[j] += 0.0002 * b[j]\n",
    "        end\n",
    "    end\n",
    "end\n",
    "\n",
    "@code_native test!(a, b, n)"
   ]
  },
  {
   "cell_type": "code",
   "execution_count": 12,
   "metadata": {},
   "outputs": [
    {
     "data": {
      "text/plain": [
       "BenchmarkTools.Trial: \n",
       "  memory estimate:  0 bytes\n",
       "  allocs estimate:  0\n",
       "  --------------\n",
       "  minimum time:     159.013 ms (0.00% GC)\n",
       "  median time:      167.455 ms (0.00% GC)\n",
       "  mean time:        181.965 ms (0.00% GC)\n",
       "  maximum time:     301.953 ms (0.00% GC)\n",
       "  --------------\n",
       "  samples:          28\n",
       "  evals/sample:     1"
      ]
     },
     "execution_count": 12,
     "metadata": {},
     "output_type": "execute_result"
    }
   ],
   "source": [
    "n = convert(Int64, 1e5)\n",
    "a = zeros(n)\n",
    "b = ones(n)\n",
    "\n",
    "function test1!(a, b, n)\n",
    "     for i in 1:1000\n",
    "        for j in 1:n\n",
    "            @inbounds a[j] += 0.0002 * b[j]\n",
    "        end\n",
    "    end\n",
    "end\n",
    "\n",
    "@benchmark test1!(a, b, n)"
   ]
  },
  {
   "cell_type": "code",
   "execution_count": 13,
   "metadata": {},
   "outputs": [
    {
     "data": {
      "text/plain": [
       "BenchmarkTools.Trial: \n",
       "  memory estimate:  0 bytes\n",
       "  allocs estimate:  0\n",
       "  --------------\n",
       "  minimum time:     157.067 ms (0.00% GC)\n",
       "  median time:      162.189 ms (0.00% GC)\n",
       "  mean time:        165.205 ms (0.00% GC)\n",
       "  maximum time:     203.020 ms (0.00% GC)\n",
       "  --------------\n",
       "  samples:          31\n",
       "  evals/sample:     1"
      ]
     },
     "execution_count": 13,
     "metadata": {},
     "output_type": "execute_result"
    }
   ],
   "source": [
    "n = convert(Int64, 1e5)\n",
    "a = zeros(n)\n",
    "b = ones(n)\n",
    "\n",
    "function test2!(a, b, n)\n",
    "    for i in 1:1000\n",
    "        @simd for j in 1:n\n",
    "            @inbounds a[j] += 0.0002 * b[j]\n",
    "        end\n",
    "    end\n",
    "end\n",
    "\n",
    "@benchmark test2!(a, b, n)"
   ]
  },
  {
   "cell_type": "code",
   "execution_count": null,
   "metadata": {},
   "outputs": [],
   "source": []
  }
 ],
 "metadata": {
  "kernelspec": {
   "display_name": "Julia 0.6.2",
   "language": "julia",
   "name": "julia-0.6"
  },
  "language_info": {
   "file_extension": ".jl",
   "mimetype": "application/julia",
   "name": "julia",
   "version": "0.6.2"
  }
 },
 "nbformat": 4,
 "nbformat_minor": 2
}
