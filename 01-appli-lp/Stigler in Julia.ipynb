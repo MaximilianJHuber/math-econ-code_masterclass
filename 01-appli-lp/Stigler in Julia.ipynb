{
 "cells": [
  {
   "cell_type": "code",
   "execution_count": 12,
   "metadata": {},
   "outputs": [
    {
     "name": "stderr",
     "output_type": "stream",
     "text": [
      "\u001b[1m\u001b[36mINFO: \u001b[39m\u001b[22m\u001b[36mPrecompiling module CSV.\n",
      "\u001b[39m"
     ]
    }
   ],
   "source": [
    "using JuMP\n",
    "using Gurobi\n",
    "using CSV"
   ]
  },
  {
   "cell_type": "code",
   "execution_count": 29,
   "metadata": {},
   "outputs": [
    {
     "ename": "LoadError",
     "evalue": "\u001b[91mMethodError: Cannot `convert` an object of type SubString{String} to an object of type Float64\nThis may have arisen from a call to the constructor Float64(...),\nsince type constructors fall back to convert methods.\u001b[39m",
     "output_type": "error",
     "traceback": [
      "\u001b[91mMethodError: Cannot `convert` an object of type SubString{String} to an object of type Float64\nThis may have arisen from a call to the constructor Float64(...),\nsince type constructors fall back to convert methods.\u001b[39m",
      "",
      "Stacktrace:",
      " [1] \u001b[1mcopy!\u001b[22m\u001b[22m\u001b[1m(\u001b[22m\u001b[22m::IndexLinear, ::Array{Float64,2}, ::IndexLinear, ::Array{Any,2}\u001b[1m)\u001b[22m\u001b[22m at \u001b[1m./abstractarray.jl:656\u001b[22m\u001b[22m",
      " [2] \u001b[1mconvert\u001b[22m\u001b[22m\u001b[1m(\u001b[22m\u001b[22m::Type{Array{Float64,2}}, ::Array{Any,2}\u001b[1m)\u001b[22m\u001b[22m at \u001b[1m./array.jl:373\u001b[22m\u001b[22m",
      " [3] \u001b[1minclude_string\u001b[22m\u001b[22m\u001b[1m(\u001b[22m\u001b[22m::String, ::String\u001b[1m)\u001b[22m\u001b[22m at \u001b[1m./loading.jl:522\u001b[22m\u001b[22m"
     ]
    }
   ],
   "source": [
    "#CSV.read(\"StiglerData1939.txt\", header=true, delim='\t')\n",
    "convert(Matrix{Float64}, readdlm(\"StiglerData1939.txt\")[2:end, 7:15])"
   ]
  },
  {
   "cell_type": "code",
   "execution_count": 6,
   "metadata": {},
   "outputs": [
    {
     "data": {
      "text/latex": [
       "$$ \\begin{alignat*}{1}\\min\\quad & 0\\\\\n",
       "\\text{Subject to} \\quad\\end{alignat*}\n",
       " $$"
      ],
      "text/plain": [
       "Feasibility problem with:\n",
       " * 0 linear constraints\n",
       " * 0 variables\n",
       "Solver is Gurobi"
      ]
     },
     "execution_count": 6,
     "metadata": {},
     "output_type": "execute_result"
    }
   ],
   "source": [
    "m = Model(solver = GurobiSolver(Presolve=0))\n",
    "\n"
   ]
  },
  {
   "cell_type": "code",
   "execution_count": 7,
   "metadata": {},
   "outputs": [
    {
     "name": "stdout",
     "output_type": "stream",
     "text": [
      "Min x² + 2 x*y + y²\n",
      "Subject to\n",
      " x + y ≥ 1\n",
      " 0 ≤ x ≤ 2\n",
      " 0 ≤ y ≤ 30\n",
      "Academic license - for non-commercial use only\n",
      "Optimize a model with 1 rows, 2 columns and 2 nonzeros\n",
      "Model has 3 quadratic objective terms\n",
      "Coefficient statistics:\n",
      "  Matrix range     [1e+00, 1e+00]\n",
      "  Objective range  [0e+00, 0e+00]\n",
      "  QObjective range [2e+00, 4e+00]\n",
      "  Bounds range     [2e+00, 3e+01]\n",
      "  RHS range        [1e+00, 1e+00]\n",
      "Ordering time: 0.00s\n",
      "\n",
      "Barrier statistics:\n",
      " Free vars  : 1\n",
      " AA' NZ     : 1.000e+00\n",
      " Factor NZ  : 3.000e+00\n",
      " Factor Ops : 5.000e+00 (less than 1 second per iteration)\n",
      " Threads    : 1\n",
      "\n",
      "                  Objective                Residual\n",
      "Iter       Primal          Dual         Primal    Dual     Compl     Time\n",
      "   0   1.12890597e-12 -1.60000000e+04  2.00e+03 1.06e-06  1.00e+06     0s\n",
      "   1   2.54166183e+04 -4.21154122e+04  7.19e+01 3.82e-08  4.87e+04     0s\n",
      "   2   8.69295840e+02 -2.05460584e+04  7.19e-05 1.89e-11  4.28e+03     0s\n",
      "   3   8.44534300e+02 -9.90437060e+02  5.88e-06 1.55e-12  3.67e+02     0s\n",
      "   4   3.87631955e+01 -1.26733156e+03  5.88e-12 1.42e-14  2.61e+02     0s\n",
      "   5   1.96255482e+01 -2.53872276e+01  5.02e-14 1.78e-14  9.00e+00     0s\n",
      "   6   3.81401311e+00 -2.43213263e+00  1.11e-16 0.00e+00  1.25e+00     0s\n",
      "   7   1.16776940e+00  6.45802223e-01  1.11e-16 0.00e+00  1.04e-01     0s\n",
      "   8   1.00016127e+00  9.99340384e-01  0.00e+00 0.00e+00  1.64e-04     0s\n",
      "   9   1.00000016e+00  9.99999340e-01  0.00e+00 2.12e-16  1.64e-07     0s\n",
      "  10   1.00000000e+00  9.99999999e-01  1.11e-16 2.36e-16  1.64e-10     0s\n",
      "\n",
      "Barrier solved model in 10 iterations and 0.07 seconds\n",
      "Optimal objective 1.00000000e+00\n",
      "\n"
     ]
    },
    {
     "data": {
      "text/plain": [
       ":Optimal"
      ]
     },
     "execution_count": 7,
     "metadata": {},
     "output_type": "execute_result"
    }
   ],
   "source": [
    "@variable(m, 0 <= x <= 2 )\n",
    "@variable(m, 0 <= y <= 30 )\n",
    "\n",
    "@objective(m, Min, x*x+ 2x*y + y*y )\n",
    "@constraint(m, x + y >= 1 )\n",
    "\n",
    "print(m)\n",
    "\n",
    "status = solve(m)"
   ]
  },
  {
   "cell_type": "code",
   "execution_count": 10,
   "metadata": {},
   "outputs": [
    {
     "data": {
      "text/latex": [
       "$$ \\begin{alignat*}{1}\\min\\quad & x^2 + 2 x\\times y + y^2\\\\\n",
       "\\text{Subject to} \\quad & x + y \\geq 1\\\\\n",
       " & 0 \\leq x \\leq 2\\\\\n",
       " & 0 \\leq y \\leq 30\\\\\n",
       "\\end{alignat*}\n",
       " $$"
      ],
      "text/plain": [
       "Minimization problem with:\n",
       " * 1 linear constraint\n",
       " * 2 variables\n",
       "Solver is Gurobi"
      ]
     },
     "execution_count": 10,
     "metadata": {},
     "output_type": "execute_result"
    }
   ],
   "source": [
    "m"
   ]
  },
  {
   "cell_type": "code",
   "execution_count": null,
   "metadata": {},
   "outputs": [],
   "source": []
  }
 ],
 "metadata": {
  "kernelspec": {
   "display_name": "Julia 0.6.2",
   "language": "julia",
   "name": "julia-0.6"
  },
  "language_info": {
   "file_extension": ".jl",
   "mimetype": "application/julia",
   "name": "julia",
   "version": "0.6.2"
  }
 },
 "nbformat": 4,
 "nbformat_minor": 2
}
